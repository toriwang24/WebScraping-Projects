{
 "cells": [
  {
   "cell_type": "markdown",
   "id": "eb34583e-fcd5-4a1e-81aa-c9bf9587f746",
   "metadata": {},
   "source": [
    "# Imports"
   ]
  },
  {
   "cell_type": "code",
   "execution_count": 2,
   "id": "b0742744-81fd-4c45-996d-6574f772f7df",
   "metadata": {},
   "outputs": [],
   "source": [
    "# Imports\n",
    "\n",
    "# Webscraping Imports\n",
    "import requests\n",
    "from bs4 import BeautifulSoup\n",
    "import random\n",
    "import pandas as pd\n",
    "\n",
    "\n",
    "# ML library imports\n",
    "import nltk\n",
    "from nltk.tokenize import word_tokenize\n",
    "from nltk import ngrams\n",
    "import nltk.collocations\n",
    "from nltk import BigramCollocationFinder\n",
    "from nltk.probability import FreqDist\n",
    "\n",
    "from nltk.corpus import stopwords\n",
    "from nltk.tokenize import word_tokenize\n",
    "\n",
    "# Formatting\n",
    "from pprint import pprint"
   ]
  },
  {
   "cell_type": "markdown",
   "id": "04d8dac5-2ee5-487e-afc6-210fb0f62502",
   "metadata": {},
   "source": [
    "# Defining Functions"
   ]
  },
  {
   "cell_type": "code",
   "execution_count": 3,
   "id": "a718c086-997e-4358-92d6-470e33f53049",
   "metadata": {},
   "outputs": [],
   "source": [
    "## Webscraping functions"
   ]
  },
  {
   "cell_type": "code",
   "execution_count": 4,
   "id": "0785ab52-e4bc-483a-a9f1-7baf25044aa6",
   "metadata": {},
   "outputs": [],
   "source": [
    "# Variables\n",
    "page_limit = 200\n",
    "page_num = 1\n",
    "request_url = f\"https://www.linkedin.com/jobs-guest/jobs/api/seeMoreJobPostings/search?keywords=Data%2BScientist&location=San%2BFrancisco%2BBay%2BArea&geoId=90000084&trk=public_jobs_jobs-search-bar_search-submit&start={page_num}\""
   ]
  },
  {
   "cell_type": "code",
   "execution_count": 5,
   "id": "50b15639-4e47-49b0-b362-a2f603874744",
   "metadata": {},
   "outputs": [],
   "source": [
    "def scrape_jobs(request_url, page_limit):\n",
    "    job_list = []\n",
    "    for page_num in range(1,page_limit):\n",
    "        list_url = request_url \n",
    "        # Getting response request from list \n",
    "        response = requests.get(list_url)\n",
    "    \n",
    "        list_data = response.text\n",
    "        list_soup = BeautifulSoup(list_data, 'html.parser')\n",
    "        page_jobs = list_soup.find_all(\"li\")\n",
    "        #10 jobs per page\n",
    "        #print(len(page_jobs))\n",
    "        \n",
    "        ## Get job ID's from each page\n",
    "        id_list = []\n",
    "    \n",
    "        for job in page_jobs:\n",
    "            base_card_div = job.find(\"div\", {\"class\": \"base-card\"})\n",
    "            job_id = base_card_div.get(\"data-entity-urn\").split(\":\")[3]\n",
    "            id_list.append(job_id)\n",
    "            \n",
    "        # For every job with ID, get the information\n",
    "        for job_id in id_list:\n",
    "            job_url = f\"https://www.linkedin.com/jobs-guest/jobs/api/jobPosting/{job_id}\"\n",
    "            job_response = requests.get(job_url)\n",
    "            if(job_response.status_code == 200):\n",
    "                #print(job_response.status_code)\n",
    "                job_soup = BeautifulSoup(job_response.text, \"html.parser\")\n",
    "                job_post = {}\n",
    "                try:\n",
    "                    job_post[\"days_ago_posted\"] = job_soup.find( \"span\", {\"class\": \"posted-time-ago__text topcard__flavor--metadata\"}).text.strip()\n",
    "                except:\n",
    "                    job_post[\"days_ago_posted\"] = None\n",
    "                if(job_post[\"days_ago_posted\"] != None and (\"days\" in job_post[\"days_ago_posted\"] or \"hours\" in job_post[\"days_ago_posted\"])): \n",
    "                    try:\n",
    "                        job_post[\"company_name\"] = job_soup.find( \"a\", {\"class\": \"topcard__org-name-link topcard__flavor--black-link\"}).text.strip()\n",
    "                    except: \n",
    "                        job_post[\"company_name\"] = None\n",
    "                    try:\n",
    "                        job_post[\"job_title\"] = job_soup.find( \"h2\", {\"class\": \"top-card-layout__title font-sans text-lg papabear:text-xl font-bold leading-open text-color-text mb-0 topcard__title\"}).text.strip()\n",
    "                    except: \n",
    "                        job_post[\"job_title\"] = None\n",
    "                    try:\n",
    "                        job_post[\"job_description\"] = job_soup.find( \"div\", {\"class\":\"show-more-less-html__markup show-more-less-html__markup--clamp-after-5 relative overflow-hidden\" }).text.strip()\n",
    "                    except: \n",
    "                        job_post[\"job_description\"] = None\n",
    "                    try:\n",
    "                        job_post[\"num_applicants\"] = job_soup.find( \"figcaption\", {\"class\": \"num-applicants__caption\"}).text.strip()\n",
    "                    except:\n",
    "                        job_post[\"num_applicants\"] = None\n",
    "                    job_list.append(job_post)\n",
    "    return pd.DataFrame(job_list)\n",
    "        "
   ]
  },
  {
   "cell_type": "code",
   "execution_count": 6,
   "id": "10702101-011b-47a2-a4d0-d8bd1b82b28e",
   "metadata": {},
   "outputs": [],
   "source": [
    "jobs_df = scrape_jobs(request_url, 2)"
   ]
  },
  {
   "cell_type": "code",
   "execution_count": 7,
   "id": "7b2c2d89-79f7-4977-9f44-183d1df64b1d",
   "metadata": {},
   "outputs": [
    {
     "data": {
      "text/html": [
       "<div>\n",
       "<style scoped>\n",
       "    .dataframe tbody tr th:only-of-type {\n",
       "        vertical-align: middle;\n",
       "    }\n",
       "\n",
       "    .dataframe tbody tr th {\n",
       "        vertical-align: top;\n",
       "    }\n",
       "\n",
       "    .dataframe thead th {\n",
       "        text-align: right;\n",
       "    }\n",
       "</style>\n",
       "<table border=\"1\" class=\"dataframe\">\n",
       "  <thead>\n",
       "    <tr style=\"text-align: right;\">\n",
       "      <th></th>\n",
       "      <th>days_ago_posted</th>\n",
       "      <th>company_name</th>\n",
       "      <th>job_title</th>\n",
       "      <th>job_description</th>\n",
       "      <th>num_applicants</th>\n",
       "    </tr>\n",
       "  </thead>\n",
       "  <tbody>\n",
       "    <tr>\n",
       "      <th>0</th>\n",
       "      <td>6 days ago</td>\n",
       "      <td>Netflix</td>\n",
       "      <td>Machine Learning Engineer Intern, Summer 2025</td>\n",
       "      <td>Netflix is one of the world's leading entertai...</td>\n",
       "      <td>Over 200 applicants</td>\n",
       "    </tr>\n",
       "    <tr>\n",
       "      <th>1</th>\n",
       "      <td>5 days ago</td>\n",
       "      <td>Wealthfront</td>\n",
       "      <td>Data Scientist, Investing</td>\n",
       "      <td>The Wealthfront Data Science Team utilizes our...</td>\n",
       "      <td>Over 200 applicants</td>\n",
       "    </tr>\n",
       "  </tbody>\n",
       "</table>\n",
       "</div>"
      ],
      "text/plain": [
       "  days_ago_posted company_name                                      job_title  \\\n",
       "0      6 days ago      Netflix  Machine Learning Engineer Intern, Summer 2025   \n",
       "1      5 days ago  Wealthfront                      Data Scientist, Investing   \n",
       "\n",
       "                                     job_description       num_applicants  \n",
       "0  Netflix is one of the world's leading entertai...  Over 200 applicants  \n",
       "1  The Wealthfront Data Science Team utilizes our...  Over 200 applicants  "
      ]
     },
     "execution_count": 7,
     "metadata": {},
     "output_type": "execute_result"
    }
   ],
   "source": [
    "jobs_df"
   ]
  },
  {
   "cell_type": "markdown",
   "id": "491a9694-bc5f-4e42-b6e0-ba19fcd344be",
   "metadata": {},
   "source": [
    "## ML Functions"
   ]
  },
  {
   "cell_type": "code",
   "execution_count": 14,
   "id": "8e2c670b-5cae-4fa4-a854-b1d5ca8e0929",
   "metadata": {},
   "outputs": [],
   "source": [
    "def create_stop_words():\n",
    "    stop_words = set(stopwords.words(\"english\"))\n",
    "    stop_words.add(':')\n",
    "    stop_words.add(',')\n",
    "    stop_words.add('.')\n",
    "    stop_words.add(', ')\n",
    "    stop_words.add('. ')\n",
    "    stop_words.add('*')\n",
    "    stop_words.add(\"'\")\n",
    "    stop_words.add(\"'s\")\n",
    "    stop_words.add('e.g')\n",
    "    stop_words.add('employees')\n",
    "    stop_words.add('applicants')\n",
    "    stop_words.add(')')\n",
    "    stop_words.add('(')\n",
    "    stop_words.add('eligible')\n",
    "    stop_words.add('participate')\n",
    "    stop_words.update(['contract','salary', 'range', 'sunnyvale', 'candidates', 'recruiting', 'hiring', 'fair', 'chance'])\n",
    "    return(stop_words)"
   ]
  },
  {
   "cell_type": "code",
   "execution_count": 15,
   "id": "05bba00b-6a28-44f5-83a9-8b6d5e75ef87",
   "metadata": {},
   "outputs": [],
   "source": [
    "stop_words = create_stop_words()"
   ]
  },
  {
   "cell_type": "code",
   "execution_count": 16,
   "id": "ae5b9f4b-c113-4bcb-92db-050960bbfc09",
   "metadata": {},
   "outputs": [],
   "source": [
    "def get_n_grams(word_list, n, top_n):\n",
    "    '''\n",
    "        Function to return ngrams\n",
    "        word_list: pass lowercase word list (filtered for stop words)\n",
    "        n: the number of words in each phrase (gram)\n",
    "        top_n: top n number of matches \n",
    "    '''\n",
    "    grams = list(ngrams(word_list, n))\n",
    "    freq_dist = FreqDist(grams)\n",
    "    \n",
    "    topn = freq_dist.most_common(top_n)\n",
    "    return(topn)"
   ]
  },
  {
   "cell_type": "code",
   "execution_count": 17,
   "id": "0a472ef7-8e09-44a9-8e07-58ab9728ff7e",
   "metadata": {},
   "outputs": [],
   "source": [
    "def return_n_grams():\n",
    "    bigram_list = []\n",
    "    # trigram_list = []\n",
    "    \n",
    "    #Create a dictionary of the most common bigrams\n",
    "    bigram_dict = {}\n",
    "    # trigram_dict = {}\n",
    "    \n",
    "    #for every job in job_list dataframe\n",
    "    for i in range(len(jobs_df)): # change to len(jobs_df)\n",
    "        # print(jobs_df['job_description'][i], '\\n')\n",
    "        # Grab the job description\n",
    "        text = jobs_df['job_description'][i]\n",
    "    \n",
    "        #Tokenize and filter unnecessary words, and put relevant words i\n",
    "        tokens = word_tokenize(text)\n",
    "        filtered_list = []\n",
    "        for word in tokens:\n",
    "            if word.casefold() not in stop_words:\n",
    "                filtered_list.append(word.lower())  \n",
    "        \n",
    "        # For bigrams\n",
    "        # add bigrams\n",
    "        top8 = get_n_grams(filtered_list, 2, 8)\n",
    "        bigram_list.append(top8)\n",
    "        for tup in top8:\n",
    "            if tup[0] not in bigram_dict:\n",
    "                bigram_dict[tup[0]] = tup[1]\n",
    "            else:\n",
    "                bigram_dict[tup[0]] += tup[1]\n",
    "    return (sorted(bigram_dict.items(), key=lambda item: item[1],  reverse=True))"
   ]
  },
  {
   "cell_type": "code",
   "execution_count": 18,
   "id": "38e418a6-7320-4125-a795-633d5c1f8b5a",
   "metadata": {},
   "outputs": [],
   "source": [
    "def get_bigrams_trigrams(jobs_df):\n",
    "\n",
    "    bigram_list = []\n",
    "    trigram_list = []\n",
    "    #Create a dictionary of the most common bigrams\n",
    "    bigram_dict = {}\n",
    "    trigram_dict = {}\n",
    "    \n",
    "    #for every job in job_list dataframe\n",
    "    for i in range(len(jobs_df)): # change to len(jobs_df)\n",
    "        # print(jobs_df['job_description'][i], '\\n')\n",
    "        # Grab the job description\n",
    "        text = jobs_df['job_description'][i]\n",
    "    \n",
    "        #Tokenize and filter unnecessary words, and put relevant words i\n",
    "        tokens = word_tokenize(text)\n",
    "        filtered_list = []\n",
    "        for word in tokens:\n",
    "            if word.casefold() not in stop_words:\n",
    "                filtered_list.append(word.lower())  \n",
    "        \n",
    "        # add bigrams\n",
    "        top8 = get_n_grams(filtered_list, 2, 8)\n",
    "        bigram_list.append(top8)\n",
    "        for tup in top8:\n",
    "            if tup[0] not in bigram_dict:\n",
    "                bigram_dict[tup[0]] = tup[1]\n",
    "            else:\n",
    "                bigram_dict[tup[0]] += tup[1]\n",
    "    \n",
    "        # add trigrams\n",
    "        top5 = get_n_grams(filtered_list, 3, 2)\n",
    "        bigram_list.append(top5)\n",
    "        for tup in top5:\n",
    "            if tup[0] not in bigram_dict:\n",
    "                trigram_dict[tup[0]] = tup[1]\n",
    "            else:\n",
    "                trigram_dict[tup[0]] += tup[1]\n",
    "    \n",
    "    sorted_bigram = (sorted(bigram_dict.items(), key=lambda item: item[1],  reverse=True))\n",
    "    sorted_trigram = (sorted(trigram_dict.items(), key=lambda item: item[1],  reverse=True))\n",
    "    return(sorted_bigram, sorted_trigram)"
   ]
  },
  {
   "cell_type": "code",
   "execution_count": 19,
   "id": "1bafd273-bd34-4e47-a202-e154d3637aef",
   "metadata": {},
   "outputs": [],
   "source": [
    "(sorted_bigram, sorted_trigram) = get_bigrams_trigrams(jobs_df)"
   ]
  },
  {
   "cell_type": "code",
   "execution_count": 20,
   "id": "3bfbb740-0657-439f-af7b-a96204bddc1c",
   "metadata": {},
   "outputs": [
    {
     "name": "stdout",
     "output_type": "stream",
     "text": [
      "[(('machine', 'learning'), 7),\n",
      " (('wealthfront', 'brokerage'), 5),\n",
      " (('data', 'science'), 4),\n",
      " (('wealthfront', 'advisers'), 4),\n",
      " (('project', 'plans'), 3),\n",
      " (('cash', 'account'), 3),\n",
      " (('software', 'engineering'), 2),\n",
      " (('engineering', 'best'), 2),\n",
      " (('best', 'practices'), 2),\n",
      " (('practices', 'version'), 2),\n",
      " (('version', 'control'), 2),\n",
      " (('control', 'testing'), 2),\n",
      " (('testing', 'code'), 2),\n",
      " (('science', 'team'), 2),\n",
      " (('computer', 'science'), 2),\n",
      " (('science', 'statistics'), 2)]\n"
     ]
    }
   ],
   "source": [
    "pprint(sorted_bigram[:100])"
   ]
  },
  {
   "cell_type": "markdown",
   "id": "89aae918-9c37-44a4-abbd-de5c07485243",
   "metadata": {},
   "source": [
    "# Business Analyst Positions"
   ]
  },
  {
   "cell_type": "code",
   "execution_count": 21,
   "id": "6537cd15-353e-4bd0-8082-38a6761d298b",
   "metadata": {},
   "outputs": [
    {
     "name": "stdout",
     "output_type": "stream",
     "text": [
      "[(('per', 'calendar'), 515),\n",
      " (('calendar', 'year'), 515),\n",
      " (('&', 'johnson'), 412),\n",
      " (('supply', 'chain'), 412),\n",
      " (('hours', 'per'), 412),\n",
      " (('web', 'analytics'), 388),\n",
      " (('johnson', '&'), 309),\n",
      " (('smarter', 'less'), 309),\n",
      " (('less', 'invasive'), 309),\n",
      " (('aditi', 'consulting'), 291),\n",
      " (('business', 'operations'), 194),\n",
      " (('operations', 'specialist'), 194),\n",
      " (('data', 'analysis'), 194),\n",
      " (('a/b', 'testing'), 194),\n",
      " (('analysis', 'using'), 194),\n",
      " (('best', 'practices'), 194),\n",
      " (('business', 'analyst'), 10),\n",
      " (('headcount', 'data'), 5),\n",
      " (('data', 'management'), 5),\n",
      " (('years', 'experience'), 4),\n",
      " (('quality', 'business'), 4),\n",
      " (('requirement', 'documents'), 4),\n",
      " (('tubi', 'offers'), 4),\n",
      " (('data', 'systems'), 3),\n",
      " (('business', 'requirement'), 3),\n",
      " (('servicenow', 'development'), 3),\n",
      " (('development', 'team'), 3),\n",
      " (('understanding', 'servicenow'), 3),\n",
      " (('business', 'requirements'), 3),\n",
      " (('user', 'stories'), 3),\n",
      " (('employee', 'benefits'), 3),\n",
      " (('-', 'open'), 2),\n",
      " (('experience', 'quality'), 2),\n",
      " (('analyst', 'working'), 2),\n",
      " (('working', 'mfg'), 2),\n",
      " (('mfg', 'environment.2+'), 2),\n",
      " (('experience', 'managing'), 2),\n",
      " (('systems', 'processes'), 2),\n",
      " (('drafting', 'business'), 2),\n",
      " (('servicenow', 'business'), 2),\n",
      " (('servicenow', 'solutions'), 2),\n",
      " (('premium', 'movies'), 2),\n",
      " (('attention', 'detail'), 2),\n",
      " (('sql', 'google'), 2),\n",
      " (('google', 'slides'), 2),\n",
      " (('slides', 'sheets'), 2),\n",
      " (('sheets', 'ms'), 2)]\n"
     ]
    }
   ],
   "source": [
    "page_limit = 200\n",
    "page_num = 1\n",
    "request_url = f\"https://www.linkedin.com/jobs-guest/jobs/api/seeMoreJobPostings/search?keywords=Business%2BAnalyst&location=San%2BFrancisco%2BBay%2BArea&geoId=90000084&trk=public_jobs_jobs-search-bar_search-submit&start={page_num}\"\n",
    "\n",
    "jobs_df = scrape_jobs(request_url, 200)\n",
    "(sorted_bigram, sorted_trigram) = get_bigrams_trigrams(jobs_df)\n",
    "\n",
    "pprint(sorted_bigram[:100])\n",
    "\n"
   ]
  },
  {
   "cell_type": "markdown",
   "id": "32c1bd5f-f6a8-4f7c-b6dc-c156005d456a",
   "metadata": {},
   "source": [
    "# Data Science Positions"
   ]
  },
  {
   "cell_type": "code",
   "execution_count": 35,
   "id": "46ca6b02-4da3-4ab9-8517-f71eeacb2440",
   "metadata": {},
   "outputs": [
    {
     "name": "stdout",
     "output_type": "stream",
     "text": [
      "['4143307444', '4034434518', '4187176363', '4178571211', '4191815023', '4191828793', '4195038774', '4152204588', '4172905983', '4187902063']\n",
      "['4034434518', '4187176363', '4178571211', '4191815023', '4191828793', '4152204588', '4172905983', '4187902063', '4184821866', '4200279036']\n"
     ]
    }
   ],
   "source": [
    "page_limit = 3\n",
    "page_num = 1\n",
    "request_url = f\"https://www.linkedin.com/jobs-guest/jobs/api/seeMoreJobPostings/search?keywords=Data%2BScientist&location=San%2BFrancisco%2BBay%2BArea&geoId=90000084&trk=public_jobs_jobs-search-bar_search-submit&start={page_num}\"\n",
    "job_list = []\n",
    "for page_num in range(1,page_limit):\n",
    "    request_url = f\"https://www.linkedin.com/jobs-guest/jobs/api/seeMoreJobPostings/search?keywords=Data%2BScientist&location=San%2BFrancisco%2BBay%2BArea&geoId=90000084&trk=public_jobs_jobs-search-bar_search-submit&start={page_num}\"\n",
    "    list_url = request_url \n",
    "    # Getting response request from list \n",
    "    response = requests.get(list_url)\n",
    "\n",
    "    list_data = response.text\n",
    "    list_soup = BeautifulSoup(list_data, 'html.parser')\n",
    "    page_jobs = list_soup.find_all(\"li\")\n",
    "    \n",
    "    id_list = []\n",
    "\n",
    "    for job in page_jobs:\n",
    "        base_card_div = job.find(\"div\", {\"class\": \"base-card\"})\n",
    "        job_id = base_card_div.get(\"data-entity-urn\").split(\":\")[3]\n",
    "        id_list.append(job_id)\n",
    "    print(id_list)\n",
    "# jobs_df = scrape_jobs(request_url, 2)\n",
    "# print(jobs_df)\n",
    "# (sorted_bigram, sorted_trigram) = get_bigrams_trigrams(jobs_df)\n",
    "\n",
    "# pprint(sorted_bigram[:100])"
   ]
  },
  {
   "cell_type": "markdown",
   "id": "bf3b4854-cf0d-4ba8-8105-dc4b4ccdfe84",
   "metadata": {},
   "source": [
    "# Business Engineer Positions"
   ]
  },
  {
   "cell_type": "code",
   "execution_count": 27,
   "id": "8ab01d68-f896-4087-8ef6-df5dbca72ac5",
   "metadata": {},
   "outputs": [
    {
     "name": "stdout",
     "output_type": "stream",
     "text": [
      "[]\n"
     ]
    }
   ],
   "source": [
    "page_limit = 200\n",
    "page_num = 1\n",
    "request_url = f\"https://www.linkedin.com/jobs-guest/jobs/api/seeMoreJobPostings/search?keywords=Business%2BEngineer&location=San%2BFrancisco%2BBay%2BArea&geoId=90000084&trk=public_jobs_jobs-search-bar_search-submit&start={page_num}\"\n",
    "\n",
    "jobs_df = scrape_jobs(request_url, 2)\n",
    "(sorted_bigram, sorted_trigram) = get_bigrams_trigrams(jobs_df)\n",
    "\n",
    "pprint(sorted_bigram[:100])"
   ]
  },
  {
   "cell_type": "markdown",
   "id": "5ced87a0-7e8f-4a4f-9a05-fc34307514db",
   "metadata": {},
   "source": [
    "# Data Analyst Positions"
   ]
  },
  {
   "cell_type": "code",
   "execution_count": 24,
   "id": "93556366-d4f2-4543-83a2-7d349ca1716e",
   "metadata": {},
   "outputs": [
    {
     "ename": "KeyboardInterrupt",
     "evalue": "",
     "output_type": "error",
     "traceback": [
      "\u001b[0;31m---------------------------------------------------------------------------\u001b[0m",
      "\u001b[0;31mKeyboardInterrupt\u001b[0m                         Traceback (most recent call last)",
      "Cell \u001b[0;32mIn[24], line 5\u001b[0m\n\u001b[1;32m      2\u001b[0m page_num \u001b[38;5;241m=\u001b[39m \u001b[38;5;241m1\u001b[39m\n\u001b[1;32m      3\u001b[0m request_url \u001b[38;5;241m=\u001b[39m \u001b[38;5;124mf\u001b[39m\u001b[38;5;124m\"\u001b[39m\u001b[38;5;124mhttps://www.linkedin.com/jobs-guest/jobs/api/seeMoreJobPostings/search?keywords=Data%2BAnalyst&location=San%2BFrancisco%2BBay%2BArea&geoId=90000084&trk=public_jobs_jobs-search-bar_search-submit&start=\u001b[39m\u001b[38;5;132;01m{\u001b[39;00mpage_num\u001b[38;5;132;01m}\u001b[39;00m\u001b[38;5;124m\"\u001b[39m\n\u001b[0;32m----> 5\u001b[0m jobs_df \u001b[38;5;241m=\u001b[39m \u001b[43mscrape_jobs\u001b[49m\u001b[43m(\u001b[49m\u001b[43mrequest_url\u001b[49m\u001b[43m,\u001b[49m\u001b[43m \u001b[49m\u001b[38;5;241;43m200\u001b[39;49m\u001b[43m)\u001b[49m\n\u001b[1;32m      6\u001b[0m (sorted_bigram, sorted_trigram) \u001b[38;5;241m=\u001b[39m get_bigrams_trigrams(jobs_df)\n\u001b[1;32m      8\u001b[0m pprint(sorted_bigram[:\u001b[38;5;241m100\u001b[39m])\n",
      "Cell \u001b[0;32mIn[5], line 25\u001b[0m, in \u001b[0;36mscrape_jobs\u001b[0;34m(request_url, page_limit)\u001b[0m\n\u001b[1;32m     23\u001b[0m \u001b[38;5;28;01mfor\u001b[39;00m job_id \u001b[38;5;129;01min\u001b[39;00m id_list:\n\u001b[1;32m     24\u001b[0m     job_url \u001b[38;5;241m=\u001b[39m \u001b[38;5;124mf\u001b[39m\u001b[38;5;124m\"\u001b[39m\u001b[38;5;124mhttps://www.linkedin.com/jobs-guest/jobs/api/jobPosting/\u001b[39m\u001b[38;5;132;01m{\u001b[39;00mjob_id\u001b[38;5;132;01m}\u001b[39;00m\u001b[38;5;124m\"\u001b[39m\n\u001b[0;32m---> 25\u001b[0m     job_response \u001b[38;5;241m=\u001b[39m \u001b[43mrequests\u001b[49m\u001b[38;5;241;43m.\u001b[39;49m\u001b[43mget\u001b[49m\u001b[43m(\u001b[49m\u001b[43mjob_url\u001b[49m\u001b[43m)\u001b[49m\n\u001b[1;32m     26\u001b[0m     \u001b[38;5;28;01mif\u001b[39;00m(job_response\u001b[38;5;241m.\u001b[39mstatus_code \u001b[38;5;241m==\u001b[39m \u001b[38;5;241m200\u001b[39m):\n\u001b[1;32m     27\u001b[0m         \u001b[38;5;66;03m#print(job_response.status_code)\u001b[39;00m\n\u001b[1;32m     28\u001b[0m         job_soup \u001b[38;5;241m=\u001b[39m BeautifulSoup(job_response\u001b[38;5;241m.\u001b[39mtext, \u001b[38;5;124m\"\u001b[39m\u001b[38;5;124mhtml.parser\u001b[39m\u001b[38;5;124m\"\u001b[39m)\n",
      "File \u001b[0;32m/Library/Frameworks/Python.framework/Versions/3.10/lib/python3.10/site-packages/requests/api.py:73\u001b[0m, in \u001b[0;36mget\u001b[0;34m(url, params, **kwargs)\u001b[0m\n\u001b[1;32m     62\u001b[0m \u001b[38;5;28;01mdef\u001b[39;00m\u001b[38;5;250m \u001b[39m\u001b[38;5;21mget\u001b[39m(url, params\u001b[38;5;241m=\u001b[39m\u001b[38;5;28;01mNone\u001b[39;00m, \u001b[38;5;241m*\u001b[39m\u001b[38;5;241m*\u001b[39mkwargs):\n\u001b[1;32m     63\u001b[0m \u001b[38;5;250m    \u001b[39m\u001b[38;5;124mr\u001b[39m\u001b[38;5;124;03m\"\"\"Sends a GET request.\u001b[39;00m\n\u001b[1;32m     64\u001b[0m \n\u001b[1;32m     65\u001b[0m \u001b[38;5;124;03m    :param url: URL for the new :class:`Request` object.\u001b[39;00m\n\u001b[0;32m   (...)\u001b[0m\n\u001b[1;32m     70\u001b[0m \u001b[38;5;124;03m    :rtype: requests.Response\u001b[39;00m\n\u001b[1;32m     71\u001b[0m \u001b[38;5;124;03m    \"\"\"\u001b[39;00m\n\u001b[0;32m---> 73\u001b[0m     \u001b[38;5;28;01mreturn\u001b[39;00m \u001b[43mrequest\u001b[49m\u001b[43m(\u001b[49m\u001b[38;5;124;43m\"\u001b[39;49m\u001b[38;5;124;43mget\u001b[39;49m\u001b[38;5;124;43m\"\u001b[39;49m\u001b[43m,\u001b[49m\u001b[43m \u001b[49m\u001b[43murl\u001b[49m\u001b[43m,\u001b[49m\u001b[43m \u001b[49m\u001b[43mparams\u001b[49m\u001b[38;5;241;43m=\u001b[39;49m\u001b[43mparams\u001b[49m\u001b[43m,\u001b[49m\u001b[43m \u001b[49m\u001b[38;5;241;43m*\u001b[39;49m\u001b[38;5;241;43m*\u001b[39;49m\u001b[43mkwargs\u001b[49m\u001b[43m)\u001b[49m\n",
      "File \u001b[0;32m/Library/Frameworks/Python.framework/Versions/3.10/lib/python3.10/site-packages/requests/api.py:59\u001b[0m, in \u001b[0;36mrequest\u001b[0;34m(method, url, **kwargs)\u001b[0m\n\u001b[1;32m     55\u001b[0m \u001b[38;5;66;03m# By using the 'with' statement we are sure the session is closed, thus we\u001b[39;00m\n\u001b[1;32m     56\u001b[0m \u001b[38;5;66;03m# avoid leaving sockets open which can trigger a ResourceWarning in some\u001b[39;00m\n\u001b[1;32m     57\u001b[0m \u001b[38;5;66;03m# cases, and look like a memory leak in others.\u001b[39;00m\n\u001b[1;32m     58\u001b[0m \u001b[38;5;28;01mwith\u001b[39;00m sessions\u001b[38;5;241m.\u001b[39mSession() \u001b[38;5;28;01mas\u001b[39;00m session:\n\u001b[0;32m---> 59\u001b[0m     \u001b[38;5;28;01mreturn\u001b[39;00m \u001b[43msession\u001b[49m\u001b[38;5;241;43m.\u001b[39;49m\u001b[43mrequest\u001b[49m\u001b[43m(\u001b[49m\u001b[43mmethod\u001b[49m\u001b[38;5;241;43m=\u001b[39;49m\u001b[43mmethod\u001b[49m\u001b[43m,\u001b[49m\u001b[43m \u001b[49m\u001b[43murl\u001b[49m\u001b[38;5;241;43m=\u001b[39;49m\u001b[43murl\u001b[49m\u001b[43m,\u001b[49m\u001b[43m \u001b[49m\u001b[38;5;241;43m*\u001b[39;49m\u001b[38;5;241;43m*\u001b[39;49m\u001b[43mkwargs\u001b[49m\u001b[43m)\u001b[49m\n",
      "File \u001b[0;32m/Library/Frameworks/Python.framework/Versions/3.10/lib/python3.10/site-packages/requests/sessions.py:589\u001b[0m, in \u001b[0;36mSession.request\u001b[0;34m(self, method, url, params, data, headers, cookies, files, auth, timeout, allow_redirects, proxies, hooks, stream, verify, cert, json)\u001b[0m\n\u001b[1;32m    584\u001b[0m send_kwargs \u001b[38;5;241m=\u001b[39m {\n\u001b[1;32m    585\u001b[0m     \u001b[38;5;124m\"\u001b[39m\u001b[38;5;124mtimeout\u001b[39m\u001b[38;5;124m\"\u001b[39m: timeout,\n\u001b[1;32m    586\u001b[0m     \u001b[38;5;124m\"\u001b[39m\u001b[38;5;124mallow_redirects\u001b[39m\u001b[38;5;124m\"\u001b[39m: allow_redirects,\n\u001b[1;32m    587\u001b[0m }\n\u001b[1;32m    588\u001b[0m send_kwargs\u001b[38;5;241m.\u001b[39mupdate(settings)\n\u001b[0;32m--> 589\u001b[0m resp \u001b[38;5;241m=\u001b[39m \u001b[38;5;28;43mself\u001b[39;49m\u001b[38;5;241;43m.\u001b[39;49m\u001b[43msend\u001b[49m\u001b[43m(\u001b[49m\u001b[43mprep\u001b[49m\u001b[43m,\u001b[49m\u001b[43m \u001b[49m\u001b[38;5;241;43m*\u001b[39;49m\u001b[38;5;241;43m*\u001b[39;49m\u001b[43msend_kwargs\u001b[49m\u001b[43m)\u001b[49m\n\u001b[1;32m    591\u001b[0m \u001b[38;5;28;01mreturn\u001b[39;00m resp\n",
      "File \u001b[0;32m/Library/Frameworks/Python.framework/Versions/3.10/lib/python3.10/site-packages/requests/sessions.py:703\u001b[0m, in \u001b[0;36mSession.send\u001b[0;34m(self, request, **kwargs)\u001b[0m\n\u001b[1;32m    700\u001b[0m start \u001b[38;5;241m=\u001b[39m preferred_clock()\n\u001b[1;32m    702\u001b[0m \u001b[38;5;66;03m# Send the request\u001b[39;00m\n\u001b[0;32m--> 703\u001b[0m r \u001b[38;5;241m=\u001b[39m \u001b[43madapter\u001b[49m\u001b[38;5;241;43m.\u001b[39;49m\u001b[43msend\u001b[49m\u001b[43m(\u001b[49m\u001b[43mrequest\u001b[49m\u001b[43m,\u001b[49m\u001b[43m \u001b[49m\u001b[38;5;241;43m*\u001b[39;49m\u001b[38;5;241;43m*\u001b[39;49m\u001b[43mkwargs\u001b[49m\u001b[43m)\u001b[49m\n\u001b[1;32m    705\u001b[0m \u001b[38;5;66;03m# Total elapsed time of the request (approximately)\u001b[39;00m\n\u001b[1;32m    706\u001b[0m elapsed \u001b[38;5;241m=\u001b[39m preferred_clock() \u001b[38;5;241m-\u001b[39m start\n",
      "File \u001b[0;32m/Library/Frameworks/Python.framework/Versions/3.10/lib/python3.10/site-packages/requests/adapters.py:667\u001b[0m, in \u001b[0;36mHTTPAdapter.send\u001b[0;34m(self, request, stream, timeout, verify, cert, proxies)\u001b[0m\n\u001b[1;32m    664\u001b[0m     timeout \u001b[38;5;241m=\u001b[39m TimeoutSauce(connect\u001b[38;5;241m=\u001b[39mtimeout, read\u001b[38;5;241m=\u001b[39mtimeout)\n\u001b[1;32m    666\u001b[0m \u001b[38;5;28;01mtry\u001b[39;00m:\n\u001b[0;32m--> 667\u001b[0m     resp \u001b[38;5;241m=\u001b[39m \u001b[43mconn\u001b[49m\u001b[38;5;241;43m.\u001b[39;49m\u001b[43murlopen\u001b[49m\u001b[43m(\u001b[49m\n\u001b[1;32m    668\u001b[0m \u001b[43m        \u001b[49m\u001b[43mmethod\u001b[49m\u001b[38;5;241;43m=\u001b[39;49m\u001b[43mrequest\u001b[49m\u001b[38;5;241;43m.\u001b[39;49m\u001b[43mmethod\u001b[49m\u001b[43m,\u001b[49m\n\u001b[1;32m    669\u001b[0m \u001b[43m        \u001b[49m\u001b[43murl\u001b[49m\u001b[38;5;241;43m=\u001b[39;49m\u001b[43murl\u001b[49m\u001b[43m,\u001b[49m\n\u001b[1;32m    670\u001b[0m \u001b[43m        \u001b[49m\u001b[43mbody\u001b[49m\u001b[38;5;241;43m=\u001b[39;49m\u001b[43mrequest\u001b[49m\u001b[38;5;241;43m.\u001b[39;49m\u001b[43mbody\u001b[49m\u001b[43m,\u001b[49m\n\u001b[1;32m    671\u001b[0m \u001b[43m        \u001b[49m\u001b[43mheaders\u001b[49m\u001b[38;5;241;43m=\u001b[39;49m\u001b[43mrequest\u001b[49m\u001b[38;5;241;43m.\u001b[39;49m\u001b[43mheaders\u001b[49m\u001b[43m,\u001b[49m\n\u001b[1;32m    672\u001b[0m \u001b[43m        \u001b[49m\u001b[43mredirect\u001b[49m\u001b[38;5;241;43m=\u001b[39;49m\u001b[38;5;28;43;01mFalse\u001b[39;49;00m\u001b[43m,\u001b[49m\n\u001b[1;32m    673\u001b[0m \u001b[43m        \u001b[49m\u001b[43massert_same_host\u001b[49m\u001b[38;5;241;43m=\u001b[39;49m\u001b[38;5;28;43;01mFalse\u001b[39;49;00m\u001b[43m,\u001b[49m\n\u001b[1;32m    674\u001b[0m \u001b[43m        \u001b[49m\u001b[43mpreload_content\u001b[49m\u001b[38;5;241;43m=\u001b[39;49m\u001b[38;5;28;43;01mFalse\u001b[39;49;00m\u001b[43m,\u001b[49m\n\u001b[1;32m    675\u001b[0m \u001b[43m        \u001b[49m\u001b[43mdecode_content\u001b[49m\u001b[38;5;241;43m=\u001b[39;49m\u001b[38;5;28;43;01mFalse\u001b[39;49;00m\u001b[43m,\u001b[49m\n\u001b[1;32m    676\u001b[0m \u001b[43m        \u001b[49m\u001b[43mretries\u001b[49m\u001b[38;5;241;43m=\u001b[39;49m\u001b[38;5;28;43mself\u001b[39;49m\u001b[38;5;241;43m.\u001b[39;49m\u001b[43mmax_retries\u001b[49m\u001b[43m,\u001b[49m\n\u001b[1;32m    677\u001b[0m \u001b[43m        \u001b[49m\u001b[43mtimeout\u001b[49m\u001b[38;5;241;43m=\u001b[39;49m\u001b[43mtimeout\u001b[49m\u001b[43m,\u001b[49m\n\u001b[1;32m    678\u001b[0m \u001b[43m        \u001b[49m\u001b[43mchunked\u001b[49m\u001b[38;5;241;43m=\u001b[39;49m\u001b[43mchunked\u001b[49m\u001b[43m,\u001b[49m\n\u001b[1;32m    679\u001b[0m \u001b[43m    \u001b[49m\u001b[43m)\u001b[49m\n\u001b[1;32m    681\u001b[0m \u001b[38;5;28;01mexcept\u001b[39;00m (ProtocolError, \u001b[38;5;167;01mOSError\u001b[39;00m) \u001b[38;5;28;01mas\u001b[39;00m err:\n\u001b[1;32m    682\u001b[0m     \u001b[38;5;28;01mraise\u001b[39;00m \u001b[38;5;167;01mConnectionError\u001b[39;00m(err, request\u001b[38;5;241m=\u001b[39mrequest)\n",
      "File \u001b[0;32m/Library/Frameworks/Python.framework/Versions/3.10/lib/python3.10/site-packages/urllib3/connectionpool.py:787\u001b[0m, in \u001b[0;36mHTTPConnectionPool.urlopen\u001b[0;34m(self, method, url, body, headers, retries, redirect, assert_same_host, timeout, pool_timeout, release_conn, chunked, body_pos, preload_content, decode_content, **response_kw)\u001b[0m\n\u001b[1;32m    784\u001b[0m response_conn \u001b[38;5;241m=\u001b[39m conn \u001b[38;5;28;01mif\u001b[39;00m \u001b[38;5;129;01mnot\u001b[39;00m release_conn \u001b[38;5;28;01melse\u001b[39;00m \u001b[38;5;28;01mNone\u001b[39;00m\n\u001b[1;32m    786\u001b[0m \u001b[38;5;66;03m# Make the request on the HTTPConnection object\u001b[39;00m\n\u001b[0;32m--> 787\u001b[0m response \u001b[38;5;241m=\u001b[39m \u001b[38;5;28;43mself\u001b[39;49m\u001b[38;5;241;43m.\u001b[39;49m\u001b[43m_make_request\u001b[49m\u001b[43m(\u001b[49m\n\u001b[1;32m    788\u001b[0m \u001b[43m    \u001b[49m\u001b[43mconn\u001b[49m\u001b[43m,\u001b[49m\n\u001b[1;32m    789\u001b[0m \u001b[43m    \u001b[49m\u001b[43mmethod\u001b[49m\u001b[43m,\u001b[49m\n\u001b[1;32m    790\u001b[0m \u001b[43m    \u001b[49m\u001b[43murl\u001b[49m\u001b[43m,\u001b[49m\n\u001b[1;32m    791\u001b[0m \u001b[43m    \u001b[49m\u001b[43mtimeout\u001b[49m\u001b[38;5;241;43m=\u001b[39;49m\u001b[43mtimeout_obj\u001b[49m\u001b[43m,\u001b[49m\n\u001b[1;32m    792\u001b[0m \u001b[43m    \u001b[49m\u001b[43mbody\u001b[49m\u001b[38;5;241;43m=\u001b[39;49m\u001b[43mbody\u001b[49m\u001b[43m,\u001b[49m\n\u001b[1;32m    793\u001b[0m \u001b[43m    \u001b[49m\u001b[43mheaders\u001b[49m\u001b[38;5;241;43m=\u001b[39;49m\u001b[43mheaders\u001b[49m\u001b[43m,\u001b[49m\n\u001b[1;32m    794\u001b[0m \u001b[43m    \u001b[49m\u001b[43mchunked\u001b[49m\u001b[38;5;241;43m=\u001b[39;49m\u001b[43mchunked\u001b[49m\u001b[43m,\u001b[49m\n\u001b[1;32m    795\u001b[0m \u001b[43m    \u001b[49m\u001b[43mretries\u001b[49m\u001b[38;5;241;43m=\u001b[39;49m\u001b[43mretries\u001b[49m\u001b[43m,\u001b[49m\n\u001b[1;32m    796\u001b[0m \u001b[43m    \u001b[49m\u001b[43mresponse_conn\u001b[49m\u001b[38;5;241;43m=\u001b[39;49m\u001b[43mresponse_conn\u001b[49m\u001b[43m,\u001b[49m\n\u001b[1;32m    797\u001b[0m \u001b[43m    \u001b[49m\u001b[43mpreload_content\u001b[49m\u001b[38;5;241;43m=\u001b[39;49m\u001b[43mpreload_content\u001b[49m\u001b[43m,\u001b[49m\n\u001b[1;32m    798\u001b[0m \u001b[43m    \u001b[49m\u001b[43mdecode_content\u001b[49m\u001b[38;5;241;43m=\u001b[39;49m\u001b[43mdecode_content\u001b[49m\u001b[43m,\u001b[49m\n\u001b[1;32m    799\u001b[0m \u001b[43m    \u001b[49m\u001b[38;5;241;43m*\u001b[39;49m\u001b[38;5;241;43m*\u001b[39;49m\u001b[43mresponse_kw\u001b[49m\u001b[43m,\u001b[49m\n\u001b[1;32m    800\u001b[0m \u001b[43m\u001b[49m\u001b[43m)\u001b[49m\n\u001b[1;32m    802\u001b[0m \u001b[38;5;66;03m# Everything went great!\u001b[39;00m\n\u001b[1;32m    803\u001b[0m clean_exit \u001b[38;5;241m=\u001b[39m \u001b[38;5;28;01mTrue\u001b[39;00m\n",
      "File \u001b[0;32m/Library/Frameworks/Python.framework/Versions/3.10/lib/python3.10/site-packages/urllib3/connectionpool.py:534\u001b[0m, in \u001b[0;36mHTTPConnectionPool._make_request\u001b[0;34m(self, conn, method, url, body, headers, retries, timeout, chunked, response_conn, preload_content, decode_content, enforce_content_length)\u001b[0m\n\u001b[1;32m    532\u001b[0m \u001b[38;5;66;03m# Receive the response from the server\u001b[39;00m\n\u001b[1;32m    533\u001b[0m \u001b[38;5;28;01mtry\u001b[39;00m:\n\u001b[0;32m--> 534\u001b[0m     response \u001b[38;5;241m=\u001b[39m \u001b[43mconn\u001b[49m\u001b[38;5;241;43m.\u001b[39;49m\u001b[43mgetresponse\u001b[49m\u001b[43m(\u001b[49m\u001b[43m)\u001b[49m\n\u001b[1;32m    535\u001b[0m \u001b[38;5;28;01mexcept\u001b[39;00m (BaseSSLError, \u001b[38;5;167;01mOSError\u001b[39;00m) \u001b[38;5;28;01mas\u001b[39;00m e:\n\u001b[1;32m    536\u001b[0m     \u001b[38;5;28mself\u001b[39m\u001b[38;5;241m.\u001b[39m_raise_timeout(err\u001b[38;5;241m=\u001b[39me, url\u001b[38;5;241m=\u001b[39murl, timeout_value\u001b[38;5;241m=\u001b[39mread_timeout)\n",
      "File \u001b[0;32m/Library/Frameworks/Python.framework/Versions/3.10/lib/python3.10/site-packages/urllib3/connection.py:516\u001b[0m, in \u001b[0;36mHTTPConnection.getresponse\u001b[0;34m(self)\u001b[0m\n\u001b[1;32m    513\u001b[0m _shutdown \u001b[38;5;241m=\u001b[39m \u001b[38;5;28mgetattr\u001b[39m(\u001b[38;5;28mself\u001b[39m\u001b[38;5;241m.\u001b[39msock, \u001b[38;5;124m\"\u001b[39m\u001b[38;5;124mshutdown\u001b[39m\u001b[38;5;124m\"\u001b[39m, \u001b[38;5;28;01mNone\u001b[39;00m)\n\u001b[1;32m    515\u001b[0m \u001b[38;5;66;03m# Get the response from http.client.HTTPConnection\u001b[39;00m\n\u001b[0;32m--> 516\u001b[0m httplib_response \u001b[38;5;241m=\u001b[39m \u001b[38;5;28;43msuper\u001b[39;49m\u001b[43m(\u001b[49m\u001b[43m)\u001b[49m\u001b[38;5;241;43m.\u001b[39;49m\u001b[43mgetresponse\u001b[49m\u001b[43m(\u001b[49m\u001b[43m)\u001b[49m\n\u001b[1;32m    518\u001b[0m \u001b[38;5;28;01mtry\u001b[39;00m:\n\u001b[1;32m    519\u001b[0m     assert_header_parsing(httplib_response\u001b[38;5;241m.\u001b[39mmsg)\n",
      "File \u001b[0;32m/Library/Frameworks/Python.framework/Versions/3.10/lib/python3.10/http/client.py:1375\u001b[0m, in \u001b[0;36mHTTPConnection.getresponse\u001b[0;34m(self)\u001b[0m\n\u001b[1;32m   1373\u001b[0m \u001b[38;5;28;01mtry\u001b[39;00m:\n\u001b[1;32m   1374\u001b[0m     \u001b[38;5;28;01mtry\u001b[39;00m:\n\u001b[0;32m-> 1375\u001b[0m         \u001b[43mresponse\u001b[49m\u001b[38;5;241;43m.\u001b[39;49m\u001b[43mbegin\u001b[49m\u001b[43m(\u001b[49m\u001b[43m)\u001b[49m\n\u001b[1;32m   1376\u001b[0m     \u001b[38;5;28;01mexcept\u001b[39;00m \u001b[38;5;167;01mConnectionError\u001b[39;00m:\n\u001b[1;32m   1377\u001b[0m         \u001b[38;5;28mself\u001b[39m\u001b[38;5;241m.\u001b[39mclose()\n",
      "File \u001b[0;32m/Library/Frameworks/Python.framework/Versions/3.10/lib/python3.10/http/client.py:318\u001b[0m, in \u001b[0;36mHTTPResponse.begin\u001b[0;34m(self)\u001b[0m\n\u001b[1;32m    316\u001b[0m \u001b[38;5;66;03m# read until we get a non-100 response\u001b[39;00m\n\u001b[1;32m    317\u001b[0m \u001b[38;5;28;01mwhile\u001b[39;00m \u001b[38;5;28;01mTrue\u001b[39;00m:\n\u001b[0;32m--> 318\u001b[0m     version, status, reason \u001b[38;5;241m=\u001b[39m \u001b[38;5;28;43mself\u001b[39;49m\u001b[38;5;241;43m.\u001b[39;49m\u001b[43m_read_status\u001b[49m\u001b[43m(\u001b[49m\u001b[43m)\u001b[49m\n\u001b[1;32m    319\u001b[0m     \u001b[38;5;28;01mif\u001b[39;00m status \u001b[38;5;241m!=\u001b[39m CONTINUE:\n\u001b[1;32m    320\u001b[0m         \u001b[38;5;28;01mbreak\u001b[39;00m\n",
      "File \u001b[0;32m/Library/Frameworks/Python.framework/Versions/3.10/lib/python3.10/http/client.py:279\u001b[0m, in \u001b[0;36mHTTPResponse._read_status\u001b[0;34m(self)\u001b[0m\n\u001b[1;32m    278\u001b[0m \u001b[38;5;28;01mdef\u001b[39;00m\u001b[38;5;250m \u001b[39m\u001b[38;5;21m_read_status\u001b[39m(\u001b[38;5;28mself\u001b[39m):\n\u001b[0;32m--> 279\u001b[0m     line \u001b[38;5;241m=\u001b[39m \u001b[38;5;28mstr\u001b[39m(\u001b[38;5;28;43mself\u001b[39;49m\u001b[38;5;241;43m.\u001b[39;49m\u001b[43mfp\u001b[49m\u001b[38;5;241;43m.\u001b[39;49m\u001b[43mreadline\u001b[49m\u001b[43m(\u001b[49m\u001b[43m_MAXLINE\u001b[49m\u001b[43m \u001b[49m\u001b[38;5;241;43m+\u001b[39;49m\u001b[43m \u001b[49m\u001b[38;5;241;43m1\u001b[39;49m\u001b[43m)\u001b[49m, \u001b[38;5;124m\"\u001b[39m\u001b[38;5;124miso-8859-1\u001b[39m\u001b[38;5;124m\"\u001b[39m)\n\u001b[1;32m    280\u001b[0m     \u001b[38;5;28;01mif\u001b[39;00m \u001b[38;5;28mlen\u001b[39m(line) \u001b[38;5;241m>\u001b[39m _MAXLINE:\n\u001b[1;32m    281\u001b[0m         \u001b[38;5;28;01mraise\u001b[39;00m LineTooLong(\u001b[38;5;124m\"\u001b[39m\u001b[38;5;124mstatus line\u001b[39m\u001b[38;5;124m\"\u001b[39m)\n",
      "File \u001b[0;32m/Library/Frameworks/Python.framework/Versions/3.10/lib/python3.10/socket.py:705\u001b[0m, in \u001b[0;36mSocketIO.readinto\u001b[0;34m(self, b)\u001b[0m\n\u001b[1;32m    703\u001b[0m \u001b[38;5;28;01mwhile\u001b[39;00m \u001b[38;5;28;01mTrue\u001b[39;00m:\n\u001b[1;32m    704\u001b[0m     \u001b[38;5;28;01mtry\u001b[39;00m:\n\u001b[0;32m--> 705\u001b[0m         \u001b[38;5;28;01mreturn\u001b[39;00m \u001b[38;5;28;43mself\u001b[39;49m\u001b[38;5;241;43m.\u001b[39;49m\u001b[43m_sock\u001b[49m\u001b[38;5;241;43m.\u001b[39;49m\u001b[43mrecv_into\u001b[49m\u001b[43m(\u001b[49m\u001b[43mb\u001b[49m\u001b[43m)\u001b[49m\n\u001b[1;32m    706\u001b[0m     \u001b[38;5;28;01mexcept\u001b[39;00m timeout:\n\u001b[1;32m    707\u001b[0m         \u001b[38;5;28mself\u001b[39m\u001b[38;5;241m.\u001b[39m_timeout_occurred \u001b[38;5;241m=\u001b[39m \u001b[38;5;28;01mTrue\u001b[39;00m\n",
      "File \u001b[0;32m/Library/Frameworks/Python.framework/Versions/3.10/lib/python3.10/ssl.py:1274\u001b[0m, in \u001b[0;36mSSLSocket.recv_into\u001b[0;34m(self, buffer, nbytes, flags)\u001b[0m\n\u001b[1;32m   1270\u001b[0m     \u001b[38;5;28;01mif\u001b[39;00m flags \u001b[38;5;241m!=\u001b[39m \u001b[38;5;241m0\u001b[39m:\n\u001b[1;32m   1271\u001b[0m         \u001b[38;5;28;01mraise\u001b[39;00m \u001b[38;5;167;01mValueError\u001b[39;00m(\n\u001b[1;32m   1272\u001b[0m           \u001b[38;5;124m\"\u001b[39m\u001b[38;5;124mnon-zero flags not allowed in calls to recv_into() on \u001b[39m\u001b[38;5;132;01m%s\u001b[39;00m\u001b[38;5;124m\"\u001b[39m \u001b[38;5;241m%\u001b[39m\n\u001b[1;32m   1273\u001b[0m           \u001b[38;5;28mself\u001b[39m\u001b[38;5;241m.\u001b[39m\u001b[38;5;18m__class__\u001b[39m)\n\u001b[0;32m-> 1274\u001b[0m     \u001b[38;5;28;01mreturn\u001b[39;00m \u001b[38;5;28;43mself\u001b[39;49m\u001b[38;5;241;43m.\u001b[39;49m\u001b[43mread\u001b[49m\u001b[43m(\u001b[49m\u001b[43mnbytes\u001b[49m\u001b[43m,\u001b[49m\u001b[43m \u001b[49m\u001b[43mbuffer\u001b[49m\u001b[43m)\u001b[49m\n\u001b[1;32m   1275\u001b[0m \u001b[38;5;28;01melse\u001b[39;00m:\n\u001b[1;32m   1276\u001b[0m     \u001b[38;5;28;01mreturn\u001b[39;00m \u001b[38;5;28msuper\u001b[39m()\u001b[38;5;241m.\u001b[39mrecv_into(buffer, nbytes, flags)\n",
      "File \u001b[0;32m/Library/Frameworks/Python.framework/Versions/3.10/lib/python3.10/ssl.py:1130\u001b[0m, in \u001b[0;36mSSLSocket.read\u001b[0;34m(self, len, buffer)\u001b[0m\n\u001b[1;32m   1128\u001b[0m \u001b[38;5;28;01mtry\u001b[39;00m:\n\u001b[1;32m   1129\u001b[0m     \u001b[38;5;28;01mif\u001b[39;00m buffer \u001b[38;5;129;01mis\u001b[39;00m \u001b[38;5;129;01mnot\u001b[39;00m \u001b[38;5;28;01mNone\u001b[39;00m:\n\u001b[0;32m-> 1130\u001b[0m         \u001b[38;5;28;01mreturn\u001b[39;00m \u001b[38;5;28;43mself\u001b[39;49m\u001b[38;5;241;43m.\u001b[39;49m\u001b[43m_sslobj\u001b[49m\u001b[38;5;241;43m.\u001b[39;49m\u001b[43mread\u001b[49m\u001b[43m(\u001b[49m\u001b[38;5;28;43mlen\u001b[39;49m\u001b[43m,\u001b[49m\u001b[43m \u001b[49m\u001b[43mbuffer\u001b[49m\u001b[43m)\u001b[49m\n\u001b[1;32m   1131\u001b[0m     \u001b[38;5;28;01melse\u001b[39;00m:\n\u001b[1;32m   1132\u001b[0m         \u001b[38;5;28;01mreturn\u001b[39;00m \u001b[38;5;28mself\u001b[39m\u001b[38;5;241m.\u001b[39m_sslobj\u001b[38;5;241m.\u001b[39mread(\u001b[38;5;28mlen\u001b[39m)\n",
      "\u001b[0;31mKeyboardInterrupt\u001b[0m: "
     ]
    }
   ],
   "source": [
    "page_limit = 200\n",
    "page_num = 1\n",
    "request_url = f\"https://www.linkedin.com/jobs-guest/jobs/api/seeMoreJobPostings/search?keywords=Data%2BAnalyst&location=San%2BFrancisco%2BBay%2BArea&geoId=90000084&trk=public_jobs_jobs-search-bar_search-submit&start={page_num}\"\n",
    "\n",
    "jobs_df = scrape_jobs(request_url, 200)\n",
    "(sorted_bigram, sorted_trigram) = get_bigrams_trigrams(jobs_df)\n",
    "\n",
    "pprint(sorted_bigram[:100])"
   ]
  },
  {
   "cell_type": "code",
   "execution_count": null,
   "id": "c2ae0251-7aa5-4ff2-9cb8-19aa4d9a7cee",
   "metadata": {},
   "outputs": [],
   "source": []
  }
 ],
 "metadata": {
  "kernelspec": {
   "display_name": "Python 3 (ipykernel)",
   "language": "python",
   "name": "python3"
  },
  "language_info": {
   "codemirror_mode": {
    "name": "ipython",
    "version": 3
   },
   "file_extension": ".py",
   "mimetype": "text/x-python",
   "name": "python",
   "nbconvert_exporter": "python",
   "pygments_lexer": "ipython3",
   "version": "3.10.11"
  }
 },
 "nbformat": 4,
 "nbformat_minor": 5
}
