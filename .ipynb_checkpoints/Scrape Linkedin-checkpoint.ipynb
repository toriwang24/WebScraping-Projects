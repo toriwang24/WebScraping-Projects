{
 "cells": [
  {
   "cell_type": "markdown",
   "id": "3063bd83",
   "metadata": {},
   "source": [
    "From youtube video: https://www.youtube.com/watch?v=-H-JCgvV0z8"
   ]
  },
  {
   "cell_type": "code",
   "execution_count": 2,
   "id": "527ac244",
   "metadata": {},
   "outputs": [],
   "source": [
    "import requests\n",
    "from bs4 import BeautifulSoup\n",
    "import random\n",
    "import pandas as pd"
   ]
  },
  {
   "cell_type": "code",
   "execution_count": 3,
   "id": "3c6b1601",
   "metadata": {},
   "outputs": [],
   "source": [
    "title = \"Data Scientist\"\n",
    "location = \"San Francisco Bay Area\""
   ]
  },
  {
   "cell_type": "code",
   "execution_count": 4,
   "id": "8411d173",
   "metadata": {},
   "outputs": [],
   "source": [
    "list_url = \"https://www.linkedin.com/jobs-guest/jobs/api/seeMoreJobPostings/search?keywords=Data%2BScientist&location=San%2BFrancisco%2BBay%2BArea&geoId=90000084&trk=public_jobs_jobs-search-bar_search-submit&start=25\"\n",
    "    \n",
    "response = requests.get(list_url)    \n",
    "       \n",
    "    "
   ]
  },
  {
   "cell_type": "code",
   "execution_count": 5,
   "id": "d7ed65fc",
   "metadata": {},
   "outputs": [
    {
     "data": {
      "text/plain": [
       "<Response [200]>"
      ]
     },
     "execution_count": 5,
     "metadata": {},
     "output_type": "execute_result"
    }
   ],
   "source": [
    "response"
   ]
  },
  {
   "cell_type": "code",
   "execution_count": 6,
   "id": "b1037c6a",
   "metadata": {},
   "outputs": [
    {
     "data": {
      "text/plain": [
       "'<!DOCTYPE html>\\n\\n      <li>\\n        \\n    \\n\\n    \\n    \\n    \\n      <div class=\"base-card relative w-full hover:no-underline focus:no-underline base-card--link base-search-card base-search-card--link job-search-card\" data-entity-urn=\"urn:li:jobPosting:3935388297\" data-impression-id=\"jobs-search-result-0\" data-reference-id=\"rldal7zsaPDQ7st6ULHhPA==\" data-tracking-id=\"KhRy2KQt5ic5P1HjQ1QxoA==\" data-column=\"1\" data-row=\"26\">\\n        \\n\\n        <a class=\"base-card__full-link absolute top-0 right-0 bottom-0 left-0 p-0 z-[2]\" href=\"https://www.linkedin.com/jobs/view/machine-learning-engineer-ads-at-nextdoor-3935388297?position=1&amp;pageNum=2&amp;refId=rldal7zsaPDQ7st6ULHhPA%3D%3D&amp;trackingId=KhRy2KQt5ic5P1HjQ1QxoA%3D%3D\" data-tracking-control-name=\"public_jobs_jserp-result_search-card\" data-tracking-client-ingraph data-tracking-will-navigate>\\n          \\n          <span class=\"sr-only\">\\n              \\n        \\n        Machine Learning Engineer - Ads\\n      \\n      \\n          </span>\\n        </a>\\n\\n      \\n        \\n    <div class=\"search-entity-media\">\\n        \\n      <img class=\"artdeco-entity-image artdeco-entity-image--square-4\\n          \" data-delayed-url=\"https://media.licdn.com/dms/image/v2/D560BAQE5TCP7Rw7A-g/company-logo_100_100/company-logo_100_100/0/1715187496932/nextdoor_com_logo?e=2147483647&amp;v=beta&amp;t=Fdsa53WQZ3kRx8U-Fib4G_bwFMIkA6pNdGWudI2gCUo\" data-ghost-classes=\"artdeco-entity-image--ghost\" data-ghost-url=\"https://static.licdn.com/aero-v1/sc/h/6puxblwmhnodu6fjircz4dn4h\" alt>\\n  \\n    </div>\\n  \\n\\n        <div class=\"base-search-card__info\">\\n          <h3 class=\"base-search-card__title\">\\n            \\n        Machine Learning Engineer - Ads\\n      \\n          </h3>\\n\\n            <h4 class=\"base-search-card__subtitle\">\\n              \\n          <a class=\"hidden-nested-link\" data-tracking-client-ingraph data-tracking-control-name=\"public_jobs_jserp-result_job-search-card-subtitle\" data-tracking-will-navigate href=\"https://www.linkedin.com/company/nextdoor-com?trk=public_jobs_jserp-result_job-search-card-subtitle\">\\n            Nextdoor\\n          </a>\\n      \\n            </h4>\\n\\n<!---->\\n            <div class=\"base-search-card__metadata\">\\n              \\n          <span class=\"job-search-card__location\">\\n            San Francisco, CA\\n          </span>\\n\\n        \\n    \\n    \\n    \\n    \\n\\n<!---->  \\n\\n          <time class=\"job-search-card__listdate\" datetime=\"2025-01-07\">\\n            \\n\\n    \\n    \\n    \\n    \\n    \\n    \\n    \\n    \\n    \\n    \\n    \\n    \\n    \\n    \\n    \\n    \\n\\n    \\n    \\n    \\n    \\n    \\n    \\n    \\n    \\n    \\n    \\n    \\n    \\n    \\n    \\n\\n      5 days ago\\n  \\n          </time>\\n\\n<!---->      \\n            </div>\\n        </div>\\n<!---->      \\n    \\n      </div>\\n  \\n  \\n  \\n  \\n      </li>\\n      <li>\\n        \\n    \\n\\n    \\n    \\n    \\n      <div class=\"base-card relative w-full hover:no-underline focus:no-underline base-card--link base-search-card base-search-card--link job-search-card\" data-entity-urn=\"urn:li:jobPosting:4106711887\" data-impression-id=\"jobs-search-result-1\" data-reference-id=\"rldal7zsaPDQ7st6ULHhPA==\" data-tracking-id=\"0LXmA8QcgzMg1v8wS2GMdQ==\" data-column=\"1\" data-row=\"27\">\\n        \\n\\n        <a class=\"base-card__full-link absolute top-0 right-0 bottom-0 left-0 p-0 z-[2]\" href=\"https://www.linkedin.com/jobs/view/machine-learning-engineer-at-gloo-4106711887?position=2&amp;pageNum=2&amp;refId=rldal7zsaPDQ7st6ULHhPA%3D%3D&amp;trackingId=0LXmA8QcgzMg1v8wS2GMdQ%3D%3D\" data-tracking-control-name=\"public_jobs_jserp-result_search-card\" data-tracking-client-ingraph data-tracking-will-navigate>\\n          \\n          <span class=\"sr-only\">\\n              \\n        \\n        Machine Learning Engineer\\n      \\n      \\n          </span>\\n        </a>\\n\\n      \\n        \\n    <div class=\"search-entity-media\">\\n        \\n      <img class=\"artdeco-entity-image artdeco-entity-image--square-4\\n          \" data-delayed-url=\"https://media.licdn.com/dms/image/v2/C4D0BAQFv_mAVxodU5g/company-logo_100_100/company-logo_100_100/0/1649839444418/gloo_digital_logo?e=2147483647&amp;v=beta&amp;t=Oyx7ED9f5KZGtF2YtzxrYPT6S27qK60koKIjZwUo8rk\" data-ghost-classes=\"artdeco-entity-image--ghost\" data-ghost-url=\"https://static.licdn.com/aero-v1/sc/h/6puxblwmhnodu6fjircz4dn4h\" alt>\\n  \\n    </div>\\n  \\n\\n        <div class=\"base-search-card__info\">\\n          <h3 class=\"base-search-card__title\">\\n            \\n        Machine Learning Engineer\\n      \\n          </h3>\\n\\n            <h4 class=\"base-search-card__subtitle\">\\n              \\n          <a class=\"hidden-nested-link\" data-tracking-client-ingraph data-tracking-control-name=\"public_jobs_jserp-result_job-search-card-subtitle\" data-tracking-will-navigate href=\"https://uk.linkedin.com/company/gloo-digital?trk=public_jobs_jserp-result_job-search-card-subtitle\">\\n            Gloo\\n          </a>\\n      \\n            </h4>\\n\\n<!---->\\n            <div class=\"base-search-card__metadata\">\\n              \\n          <span class=\"job-search-card__location\">\\n            San Francisco, CA\\n          </span>\\n\\n        \\n    \\n    \\n    \\n    \\n\\n      <div class=\"job-posting-benefits text-sm\">\\n        <icon class=\"job-posting-benefits__icon\" data-delayed-url=\"https://static.licdn.com/aero-v1/sc/h/3p1v0uhy7uq0cm5zdvzp4eo18\" data-svg-class-name=\"job-posting-benefits__icon-svg\"></icon>\\n        <span class=\"job-posting-benefits__text\">\\n          Actively Hiring\\n<!---->        </span>\\n      </div>\\n  \\n\\n          <time class=\"job-search-card__listdate\" datetime=\"2024-12-20\">\\n            \\n\\n    \\n    \\n    \\n    \\n    \\n    \\n    \\n    \\n    \\n    \\n    \\n    \\n    \\n    \\n    \\n    \\n\\n    \\n    \\n    \\n    \\n    \\n    \\n    \\n    \\n    \\n    \\n    \\n    \\n    \\n    \\n\\n      3 weeks ago\\n  \\n          </time>\\n\\n<!---->      \\n            </div>\\n        </div>\\n<!---->      \\n    \\n      </div>\\n  \\n  \\n  \\n  \\n      </li>\\n      <li>\\n        \\n    \\n\\n    \\n    \\n    \\n      <div class=\"base-card relative w-full hover:no-underline focus:no-underline base-card--link base-search-card base-search-card--link job-search-card\" data-entity-urn=\"urn:li:jobPosting:4120823619\" data-impression-id=\"jobs-search-result-2\" data-reference-id=\"rldal7zsaPDQ7st6ULHhPA==\" data-tracking-id=\"+vxL8tOFPTjFnpG4AQyMww==\" data-column=\"1\" data-row=\"28\">\\n        \\n\\n        <a class=\"base-card__full-link absolute top-0 right-0 bottom-0 left-0 p-0 z-[2]\" href=\"https://www.linkedin.com/jobs/view/data-scientist-product-analytics-at-meta-4120823619?position=3&amp;pageNum=2&amp;refId=rldal7zsaPDQ7st6ULHhPA%3D%3D&amp;trackingId=%2BvxL8tOFPTjFnpG4AQyMww%3D%3D\" data-tracking-control-name=\"public_jobs_jserp-result_search-card\" data-tracking-client-ingraph data-tracking-will-navigate>\\n          \\n          <span class=\"sr-only\">\\n              \\n        \\n        Data Scientist, Product Analytics\\n      \\n      \\n          </span>\\n        </a>\\n\\n      \\n        \\n    <div class=\"search-entity-media\">\\n        \\n      <img class=\"artdeco-entity-image artdeco-entity-image--square-4\\n          \" data-delayed-url=\"https://media.licdn.com/dms/image/v2/C4E0BAQFdNatYGiBelg/company-logo_100_100/company-logo_100_100/0/1636138754252/facebook_logo?e=2147483647&amp;v=beta&amp;t=yQdLB8_bCnLl5CaiAOcOMFm39fvGboZVNBYTqgRVKWg\" data-ghost-classes=\"artdeco-entity-image--ghost\" data-ghost-url=\"https://static.licdn.com/aero-v1/sc/h/6puxblwmhnodu6fjircz4dn4h\" alt>\\n  \\n    </div>\\n  \\n\\n        <div class=\"base-search-card__info\">\\n          <h3 class=\"base-search-card__title\">\\n            \\n        Data Scientist, Product Analytics\\n      \\n          </h3>\\n\\n            <h4 class=\"base-search-card__subtitle\">\\n              \\n          <a class=\"hidden-nested-link\" data-tracking-client-ingraph data-tracking-control-name=\"public_jobs_jserp-result_job-search-card-subtitle\" data-tracking-will-navigate href=\"https://www.linkedin.com/company/meta?trk=public_jobs_jserp-result_job-search-card-subtitle\">\\n            Meta\\n          </a>\\n      \\n            </h4>\\n\\n<!---->\\n            <div class=\"base-search-card__metadata\">\\n              \\n          <span class=\"job-search-card__location\">\\n            Menlo Park, CA\\n          </span>\\n\\n        \\n    \\n    \\n    \\n    \\n\\n      <div class=\"job-posting-benefits text-sm\">\\n        <icon class=\"job-posting-benefits__icon\" data-delayed-url=\"https://static.licdn.com/aero-v1/sc/h/8zmuwb93gzlb935fk4ao4z779\" data-svg-class-name=\"job-posting-benefits__icon-svg\"></icon>\\n        <span class=\"job-posting-benefits__text\">\\n          Be an early applicant\\n<!---->        </span>\\n      </div>\\n  \\n\\n          <time class=\"job-search-card__listdate\" datetime=\"2024-12-17\">\\n            \\n\\n    \\n    \\n    \\n    \\n    \\n    \\n    \\n    \\n    \\n    \\n    \\n    \\n    \\n    \\n    \\n    \\n\\n    \\n    \\n    \\n    \\n    \\n    \\n    \\n    \\n    \\n    \\n    \\n    \\n    \\n    \\n\\n      3 weeks ago\\n  \\n          </time>\\n\\n<!---->      \\n            </div>\\n        </div>\\n<!---->      \\n    \\n      </div>\\n  \\n  \\n  \\n  \\n      </li>\\n      <li>\\n        \\n    \\n\\n    \\n    \\n    \\n      <div class=\"base-card relative w-full hover:no-underline focus:no-underline base-card--link base-search-card base-search-card--link job-search-card\" data-entity-urn=\"urn:li:jobPosting:4090725962\" data-impression-id=\"jobs-search-result-3\" data-reference-id=\"rldal7zsaPDQ7st6ULHhPA==\" data-tracking-id=\"pS01acZnF+jGPFRdPjJ/dw==\" data-column=\"1\" data-row=\"29\">\\n        \\n\\n        <a class=\"base-card__full-link absolute top-0 right-0 bottom-0 left-0 p-0 z-[2]\" href=\"https://www.linkedin.com/jobs/view/machine-learning-engineer-gen-ai-at-tecton-4090725962?position=4&amp;pageNum=2&amp;refId=rldal7zsaPDQ7st6ULHhPA%3D%3D&amp;trackingId=pS01acZnF%2BjGPFRdPjJ%2Fdw%3D%3D\" data-tracking-control-name=\"public_jobs_jserp-result_search-card\" data-tracking-client-ingraph data-tracking-will-navigate>\\n          \\n          <span class=\"sr-only\">\\n              \\n        \\n        Machine Learning Engineer, Gen AI\\n      \\n      \\n          </span>\\n        </a>\\n\\n      \\n        \\n    <div class=\"search-entity-media\">\\n        \\n      <img class=\"artdeco-entity-image artdeco-entity-image--square-4\\n          \" data-delayed-url=\"https://media.licdn.com/dms/image/v2/C4D0BAQGqFvq-qwAKJg/company-logo_100_100/company-logo_100_100/0/1648160428792/tectonai_logo?e=2147483647&amp;v=beta&amp;t=YH0JsREpPgLDRzBcpx8n80TC6oHOP33ZzfyAoviBiq4\" data-ghost-classes=\"artdeco-entity-image--ghost\" data-ghost-url=\"https://static.licdn.com/aero-v1/sc/h/6puxblwmhnodu6fjircz4dn4h\" alt>\\n  \\n    </div>\\n  \\n\\n        <div class=\"base-search-card__info\">\\n          <h3 class=\"base-search-card__title\">\\n            \\n        Machine Learning Engineer, Gen AI\\n      \\n          </h3>\\n\\n            <h4 class=\"base-search-card__subtitle\">\\n              \\n          <a class=\"hidden-nested-link\" data-tracking-client-ingraph data-tracking-control-name=\"public_jobs_jserp-result_job-search-card-subtitle\" data-tracking-will-navigate href=\"https://www.linkedin.com/company/tectonai?trk=public_jobs_jserp-result_job-search-card-subtitle\">\\n            Tecton\\n          </a>\\n      \\n            </h4>\\n\\n<!---->\\n            <div class=\"base-search-card__metadata\">\\n              \\n          <span class=\"job-search-card__location\">\\n            San Francisco Bay Area\\n          </span>\\n\\n        \\n    \\n    \\n    \\n    \\n\\n<!---->  \\n\\n          <time class=\"job-search-card__listdate\" datetime=\"2024-12-04\">\\n            \\n\\n    \\n    \\n    \\n    \\n    \\n    \\n    \\n    \\n    \\n    \\n    \\n    \\n    \\n    \\n    \\n    \\n\\n    \\n    \\n    \\n    \\n    \\n    \\n    \\n    \\n    \\n    \\n    \\n    \\n    \\n    \\n\\n      1 month ago\\n  \\n          </time>\\n\\n<!---->      \\n            </div>\\n        </div>\\n<!---->      \\n    \\n      </div>\\n  \\n  \\n  \\n  \\n      </li>\\n      <li>\\n        \\n    \\n\\n    \\n    \\n    \\n      <div class=\"base-card relative w-full hover:no-underline focus:no-underline base-card--link base-search-card base-search-card--link job-search-card\" data-entity-urn=\"urn:li:jobPosting:4105035525\" data-impression-id=\"jobs-search-result-4\" data-reference-id=\"rldal7zsaPDQ7st6ULHhPA==\" data-tracking-id=\"CRUQm239Xs3zH9qWOm0F9Q==\" data-column=\"1\" data-row=\"30\">\\n        \\n\\n        <a class=\"base-card__full-link absolute top-0 right-0 bottom-0 left-0 p-0 z-[2]\" href=\"https://www.linkedin.com/jobs/view/data-scientist-algorithms-primetime-pricing-at-lyft-4105035525?position=5&amp;pageNum=2&amp;refId=rldal7zsaPDQ7st6ULHhPA%3D%3D&amp;trackingId=CRUQm239Xs3zH9qWOm0F9Q%3D%3D\" data-tracking-control-name=\"public_jobs_jserp-result_search-card\" data-tracking-client-ingraph data-tracking-will-navigate>\\n          \\n          <span class=\"sr-only\">\\n              \\n        \\n        Data Scientist, Algorithms - Primetime Pricing\\n      \\n      \\n          </span>\\n        </a>\\n\\n      \\n        \\n    <div class=\"search-entity-media\">\\n        \\n      <img class=\"artdeco-entity-image artdeco-entity-image--square-4\\n          \" data-delayed-url=\"https://media.licdn.com/dms/image/v2/C560BAQFoMDej0VdZVA/company-logo_100_100/company-logo_100_100/0/1630565402130/lyft_logo?e=2147483647&amp;v=beta&amp;t=qTw474I1wrul4pKfTrOZdPXfMuwxVPXGVZitTSln-Uk\" data-ghost-classes=\"artdeco-entity-image--ghost\" data-ghost-url=\"https://static.licdn.com/aero-v1/sc/h/6puxblwmhnodu6fjircz4dn4h\" alt>\\n  \\n    </div>\\n  \\n\\n        <div class=\"base-search-card__info\">\\n          <h3 class=\"base-search-card__title\">\\n            \\n        Data Scientist, Algorithms - Primetime Pricing\\n      \\n          </h3>\\n\\n            <h4 class=\"base-search-card__subtitle\">\\n              \\n          <a class=\"hidden-nested-link\" data-tracking-client-ingraph data-tracking-control-name=\"public_jobs_jserp-result_job-search-card-subtitle\" data-tracking-will-navigate href=\"https://www.linkedin.com/company/lyft?trk=public_jobs_jserp-result_job-search-card-subtitle\">\\n            Lyft\\n          </a>\\n      \\n            </h4>\\n\\n<!---->\\n            <div class=\"base-search-card__metadata\">\\n              \\n          <span class=\"job-search-card__location\">\\n            San Francisco County, CA\\n          </span>\\n\\n        \\n    \\n    \\n    \\n    \\n\\n      <div class=\"job-posting-benefits text-sm\">\\n        <icon class=\"job-posting-benefits__icon\" data-delayed-url=\"https://static.licdn.com/aero-v1/sc/h/3p1v0uhy7uq0cm5zdvzp4eo18\" data-svg-class-name=\"job-posting-benefits__icon-svg\"></icon>\\n        <span class=\"job-posting-benefits__text\">\\n          Actively Hiring\\n<!---->        </span>\\n      </div>\\n  \\n\\n          <time class=\"job-search-card__listdate\" datetime=\"2024-12-18\">\\n            \\n\\n    \\n    \\n    \\n    \\n    \\n    \\n    \\n    \\n    \\n    \\n    \\n    \\n    \\n    \\n    \\n    \\n\\n    \\n    \\n    \\n    \\n    \\n    \\n    \\n    \\n    \\n    \\n    \\n    \\n    \\n    \\n\\n      3 weeks ago\\n  \\n          </time>\\n\\n<!---->      \\n            </div>\\n        </div>\\n<!---->      \\n    \\n      </div>\\n  \\n  \\n  \\n  \\n      </li>\\n      <li>\\n        \\n    \\n\\n    \\n    \\n    \\n      <div class=\"base-card relative w-full hover:no-underline focus:no-underline base-card--link base-search-card base-search-card--link job-search-card\" data-entity-urn=\"urn:li:jobPosting:3975313665\" data-impression-id=\"jobs-search-result-5\" data-reference-id=\"rldal7zsaPDQ7st6ULHhPA==\" data-tracking-id=\"+vu+D/Qc9gP1osPxmjSqRA==\" data-column=\"1\" data-row=\"31\">\\n        \\n\\n        <a class=\"base-card__full-link absolute top-0 right-0 bottom-0 left-0 p-0 z-[2]\" href=\"https://www.linkedin.com/jobs/view/senior-data-scientist-risk-at-brex-3975313665?position=6&amp;pageNum=2&amp;refId=rldal7zsaPDQ7st6ULHhPA%3D%3D&amp;trackingId=%2Bvu%2BD%2FQc9gP1osPxmjSqRA%3D%3D\" data-tracking-control-name=\"public_jobs_jserp-result_search-card\" data-tracking-client-ingraph data-tracking-will-navigate>\\n          \\n          <span class=\"sr-only\">\\n              \\n        \\n        Senior Data Scientist, Risk\\n      \\n      \\n          </span>\\n        </a>\\n\\n      \\n        \\n    <div class=\"search-entity-media\">\\n        \\n      <img class=\"artdeco-entity-image artdeco-entity-image--square-4\\n          \" data-delayed-url=\"https://media.licdn.com/dms/image/v2/D560BAQGkXlB9L9KNDA/company-logo_100_100/company-logo_100_100/0/1719255861438/brexhq_logo?e=2147483647&amp;v=beta&amp;t=maBl0WSskpQzJmBmbQRS6_Iqwz5-wVhub2rh5Wwp6Zk\" data-ghost-classes=\"artdeco-entity-image--ghost\" data-ghost-url=\"https://static.licdn.com/aero-v1/sc/h/6puxblwmhnodu6fjircz4dn4h\" alt>\\n  \\n    </div>\\n  \\n\\n        <div class=\"base-search-card__info\">\\n          <h3 class=\"base-search-card__title\">\\n            \\n        Senior Data Scientist, Risk\\n      \\n          </h3>\\n\\n            <h4 class=\"base-search-card__subtitle\">\\n              \\n          <a class=\"hidden-nested-link\" data-tracking-client-ingraph data-tracking-control-name=\"public_jobs_jserp-result_job-search-card-subtitle\" data-tracking-will-navigate href=\"https://www.linkedin.com/company/brexhq?trk=public_jobs_jserp-result_job-search-card-subtitle\">\\n            Brex\\n          </a>\\n      \\n            </h4>\\n\\n<!---->\\n            <div class=\"base-search-card__metadata\">\\n              \\n          <span class=\"job-search-card__location\">\\n            San Francisco, CA\\n          </span>\\n\\n        \\n    \\n    \\n    \\n    \\n\\n      <div class=\"job-posting-benefits text-sm\">\\n        <icon class=\"job-posting-benefits__icon\" data-delayed-url=\"https://static.licdn.com/aero-v1/sc/h/3p1v0uhy7uq0cm5zdvzp4eo18\" data-svg-class-name=\"job-posting-benefits__icon-svg\"></icon>\\n        <span class=\"job-posting-benefits__text\">\\n          Actively Hiring\\n<!---->        </span>\\n      </div>\\n  \\n\\n          <time class=\"job-search-card__listdate\" datetime=\"2025-01-03\">\\n            \\n\\n    \\n    \\n    \\n    \\n    \\n    \\n    \\n    \\n    \\n    \\n    \\n    \\n    \\n    \\n    \\n    \\n\\n    \\n    \\n    \\n    \\n    \\n    \\n    \\n    \\n    \\n    \\n    \\n    \\n    \\n    \\n\\n      1 week ago\\n  \\n          </time>\\n\\n<!---->      \\n            </div>\\n        </div>\\n<!---->      \\n    \\n      </div>\\n  \\n  \\n  \\n  \\n      </li>\\n      <li>\\n        \\n    \\n\\n    \\n    \\n    \\n      <div class=\"base-card relative w-full hover:no-underline focus:no-underline base-card--link base-search-card base-search-card--link job-search-card\" data-entity-urn=\"urn:li:jobPosting:4076541971\" data-impression-id=\"jobs-search-result-6\" data-reference-id=\"rldal7zsaPDQ7st6ULHhPA==\" data-tracking-id=\"hO04bjTzE5HjxjFkxlxqag==\" data-column=\"1\" data-row=\"32\">\\n        \\n\\n        <a class=\"base-card__full-link absolute top-0 right-0 bottom-0 left-0 p-0 z-[2]\" href=\"https://www.linkedin.com/jobs/view/data-scientist-analytics-at-twitch-4076541971?position=7&amp;pageNum=2&amp;refId=rldal7zsaPDQ7st6ULHhPA%3D%3D&amp;trackingId=hO04bjTzE5HjxjFkxlxqag%3D%3D\" data-tracking-control-name=\"public_jobs_jserp-result_search-card\" data-tracking-client-ingraph data-tracking-will-navigate>\\n          \\n          <span class=\"sr-only\">\\n              \\n        \\n        Data Scientist - Analytics\\n      \\n      \\n          </span>\\n        </a>\\n\\n      \\n        \\n    <div class=\"search-entity-media\">\\n        \\n      <img class=\"artdeco-entity-image artdeco-entity-image--square-4\\n          \" data-delayed-url=\"https://media.licdn.com/dms/image/v2/D560BAQHbYCvrNGC17g/company-logo_100_100/company-logo_100_100/0/1695062101897/twitch_tv_logo?e=2147483647&amp;v=beta&amp;t=uqZASN7sr7mZBei_6o-tFrTEho8x-ttcnGLk4zejrSg\" data-ghost-classes=\"artdeco-entity-image--ghost\" data-ghost-url=\"https://static.licdn.com/aero-v1/sc/h/6puxblwmhnodu6fjircz4dn4h\" alt>\\n  \\n    </div>\\n  \\n\\n        <div class=\"base-search-card__info\">\\n          <h3 class=\"base-search-card__title\">\\n            \\n        Data Scientist - Analytics\\n      \\n          </h3>\\n\\n            <h4 class=\"base-search-card__subtitle\">\\n              \\n          <a class=\"hidden-nested-link\" data-tracking-client-ingraph data-tracking-control-name=\"public_jobs_jserp-result_job-search-card-subtitle\" data-tracking-will-navigate href=\"https://www.linkedin.com/company/twitch-tv?trk=public_jobs_jserp-result_job-search-card-subtitle\">\\n            Twitch\\n          </a>\\n      \\n            </h4>\\n\\n<!---->\\n            <div class=\"base-search-card__metadata\">\\n              \\n          <span class=\"job-search-card__location\">\\n            San Francisco, CA\\n          </span>\\n\\n        \\n    \\n    \\n    \\n    \\n\\n<!---->  \\n\\n          <time class=\"job-search-card__listdate\" datetime=\"2025-01-04\">\\n            \\n\\n    \\n    \\n    \\n    \\n    \\n    \\n    \\n    \\n    \\n    \\n    \\n    \\n    \\n    \\n    \\n    \\n\\n    \\n    \\n    \\n    \\n    \\n    \\n    \\n    \\n    \\n    \\n    \\n    \\n    \\n    \\n\\n      1 week ago\\n  \\n          </time>\\n\\n<!---->      \\n            </div>\\n        </div>\\n<!---->      \\n    \\n      </div>\\n  \\n  \\n  \\n  \\n      </li>\\n      <li>\\n        \\n    \\n\\n    \\n    \\n    \\n      <div class=\"base-card relative w-full hover:no-underline focus:no-underline base-card--link base-search-card base-search-card--link job-search-card\" data-entity-urn=\"urn:li:jobPosting:4122979584\" data-impression-id=\"jobs-search-result-7\" data-reference-id=\"rldal7zsaPDQ7st6ULHhPA==\" data-tracking-id=\"PpcLr1haA1YVD+cQr7rX4Q==\" data-column=\"1\" data-row=\"33\">\\n        \\n\\n        <a class=\"base-card__full-link absolute top-0 right-0 bottom-0 left-0 p-0 z-[2]\" href=\"https://www.linkedin.com/jobs/view/data-scientist-2-at-intuit-4122979584?position=8&amp;pageNum=2&amp;refId=rldal7zsaPDQ7st6ULHhPA%3D%3D&amp;trackingId=PpcLr1haA1YVD%2BcQr7rX4Q%3D%3D\" data-tracking-control-name=\"public_jobs_jserp-result_search-card\" data-tracking-client-ingraph data-tracking-will-navigate>\\n          \\n          <span class=\"sr-only\">\\n              \\n        \\n        Data Scientist 2\\n      \\n      \\n          </span>\\n        </a>\\n\\n      \\n        \\n    <div class=\"search-entity-media\">\\n        \\n      <img class=\"artdeco-entity-image artdeco-entity-image--square-4\\n          \" data-delayed-url=\"https://media.licdn.com/dms/image/v2/C560BAQFTpF8uneqScw/company-logo_100_100/company-logo_100_100/0/1661446146222/intuit_logo?e=2147483647&amp;v=beta&amp;t=5hsEsGdMVVpQSXz7yjJc2fshydqwaa7AOmiIPwuwgmA\" data-ghost-classes=\"artdeco-entity-image--ghost\" data-ghost-url=\"https://static.licdn.com/aero-v1/sc/h/6puxblwmhnodu6fjircz4dn4h\" alt>\\n  \\n    </div>\\n  \\n\\n        <div class=\"base-search-card__info\">\\n          <h3 class=\"base-search-card__title\">\\n            \\n        Data Scientist 2\\n      \\n          </h3>\\n\\n            <h4 class=\"base-search-card__subtitle\">\\n              \\n          <a class=\"hidden-nested-link\" data-tracking-client-ingraph data-tracking-control-name=\"public_jobs_jserp-result_job-search-card-subtitle\" data-tracking-will-navigate href=\"https://www.linkedin.com/company/intuit?trk=public_jobs_jserp-result_job-search-card-subtitle\">\\n            Intuit\\n          </a>\\n      \\n            </h4>\\n\\n<!---->\\n            <div class=\"base-search-card__metadata\">\\n              \\n          <span class=\"job-search-card__location\">\\n            Mountain View, CA\\n          </span>\\n\\n        \\n    \\n    \\n    \\n    \\n\\n      <div class=\"job-posting-benefits text-sm\">\\n        <icon class=\"job-posting-benefits__icon\" data-delayed-url=\"https://static.licdn.com/aero-v1/sc/h/3p1v0uhy7uq0cm5zdvzp4eo18\" data-svg-class-name=\"job-posting-benefits__icon-svg\"></icon>\\n        <span class=\"job-posting-benefits__text\">\\n          Actively Hiring\\n<!---->        </span>\\n      </div>\\n  \\n\\n          <time class=\"job-search-card__listdate\" datetime=\"2025-01-11\">\\n            \\n\\n    \\n    \\n    \\n    \\n    \\n    \\n    \\n    \\n    \\n    \\n    \\n    \\n    \\n    \\n    \\n    \\n\\n    \\n    \\n    \\n    \\n    \\n    \\n    \\n    \\n    \\n    \\n    \\n    \\n    \\n    \\n\\n      1 day ago\\n  \\n          </time>\\n\\n<!---->      \\n            </div>\\n        </div>\\n<!---->      \\n    \\n      </div>\\n  \\n  \\n  \\n  \\n      </li>\\n      <li>\\n        \\n    \\n\\n    \\n    \\n    \\n      <div class=\"base-card relative w-full hover:no-underline focus:no-underline base-card--link base-search-card base-search-card--link job-search-card\" data-entity-urn=\"urn:li:jobPosting:4102568551\" data-impression-id=\"jobs-search-result-8\" data-reference-id=\"rldal7zsaPDQ7st6ULHhPA==\" data-tracking-id=\"cc3K8yflxBVC/QRMthKhiw==\" data-column=\"1\" data-row=\"34\">\\n        \\n\\n        <a class=\"base-card__full-link absolute top-0 right-0 bottom-0 left-0 p-0 z-[2]\" href=\"https://www.linkedin.com/jobs/view/machine-learning-model-engineer-at-samsung-electronics-4102568551?position=9&amp;pageNum=2&amp;refId=rldal7zsaPDQ7st6ULHhPA%3D%3D&amp;trackingId=cc3K8yflxBVC%2FQRMthKhiw%3D%3D\" data-tracking-control-name=\"public_jobs_jserp-result_search-card\" data-tracking-client-ingraph data-tracking-will-navigate>\\n          \\n          <span class=\"sr-only\">\\n              \\n        \\n        Machine Learning Model Engineer\\n      \\n      \\n          </span>\\n        </a>\\n\\n      \\n        \\n    <div class=\"search-entity-media\">\\n        \\n      <img class=\"artdeco-entity-image artdeco-entity-image--square-4\\n          \" data-delayed-url=\"https://media.licdn.com/dms/image/v2/C560BAQFsvADfvcJi_A/company-logo_100_100/company-logo_100_100/0/1676336400451/samsung_electronics_logo?e=2147483647&amp;v=beta&amp;t=OmveZwL96Yk6JiTZY9TA5G8qfAdQV3aEyawfsRLuaHE\" data-ghost-classes=\"artdeco-entity-image--ghost\" data-ghost-url=\"https://static.licdn.com/aero-v1/sc/h/6puxblwmhnodu6fjircz4dn4h\" alt>\\n  \\n    </div>\\n  \\n\\n        <div class=\"base-search-card__info\">\\n          <h3 class=\"base-search-card__title\">\\n            \\n        Machine Learning Model Engineer\\n      \\n          </h3>\\n\\n            <h4 class=\"base-search-card__subtitle\">\\n              \\n          <a class=\"hidden-nested-link\" data-tracking-client-ingraph data-tracking-control-name=\"public_jobs_jserp-result_job-search-card-subtitle\" data-tracking-will-navigate href=\"https://kr.linkedin.com/company/samsung-electronics?trk=public_jobs_jserp-result_job-search-card-subtitle\">\\n            Samsung Electronics\\n          </a>\\n      \\n            </h4>\\n\\n<!---->\\n            <div class=\"base-search-card__metadata\">\\n              \\n          <span class=\"job-search-card__location\">\\n            Mountain View, CA\\n          </span>\\n\\n        \\n    \\n    \\n    \\n    \\n\\n      <div class=\"job-posting-benefits text-sm\">\\n        <icon class=\"job-posting-benefits__icon\" data-delayed-url=\"https://static.licdn.com/aero-v1/sc/h/3p1v0uhy7uq0cm5zdvzp4eo18\" data-svg-class-name=\"job-posting-benefits__icon-svg\"></icon>\\n        <span class=\"job-posting-benefits__text\">\\n          Actively Hiring\\n             +9&nbsp;benefits\\n        </span>\\n      </div>\\n  \\n\\n          <time class=\"job-search-card__listdate\" datetime=\"2024-12-17\">\\n            \\n\\n    \\n    \\n    \\n    \\n    \\n    \\n    \\n    \\n    \\n    \\n    \\n    \\n    \\n    \\n    \\n    \\n\\n    \\n    \\n    \\n    \\n    \\n    \\n    \\n    \\n    \\n    \\n    \\n    \\n    \\n    \\n\\n      3 weeks ago\\n  \\n          </time>\\n\\n<!---->      \\n            </div>\\n        </div>\\n<!---->      \\n    \\n      </div>\\n  \\n  \\n  \\n  \\n      </li>\\n      <li>\\n        \\n    \\n\\n    \\n    \\n    \\n      <div class=\"base-card relative w-full hover:no-underline focus:no-underline base-card--link base-search-card base-search-card--link job-search-card\" data-entity-urn=\"urn:li:jobPosting:4120825473\" data-impression-id=\"jobs-search-result-9\" data-reference-id=\"rldal7zsaPDQ7st6ULHhPA==\" data-tracking-id=\"X0okh7m2yLRt+Fk8D11Myg==\" data-column=\"1\" data-row=\"35\">\\n        \\n\\n        <a class=\"base-card__full-link absolute top-0 right-0 bottom-0 left-0 p-0 z-[2]\" href=\"https://www.linkedin.com/jobs/view/data-scientist-product-analytics-at-meta-4120825473?position=10&amp;pageNum=2&amp;refId=rldal7zsaPDQ7st6ULHhPA%3D%3D&amp;trackingId=X0okh7m2yLRt%2BFk8D11Myg%3D%3D\" data-tracking-control-name=\"public_jobs_jserp-result_search-card\" data-tracking-client-ingraph data-tracking-will-navigate>\\n          \\n          <span class=\"sr-only\">\\n              \\n        \\n        Data Scientist, Product Analytics\\n      \\n      \\n          </span>\\n        </a>\\n\\n      \\n        \\n    <div class=\"search-entity-media\">\\n        \\n      <img class=\"artdeco-entity-image artdeco-entity-image--square-4\\n          \" data-delayed-url=\"https://media.licdn.com/dms/image/v2/C4E0BAQFdNatYGiBelg/company-logo_100_100/company-logo_100_100/0/1636138754252/facebook_logo?e=2147483647&amp;v=beta&amp;t=yQdLB8_bCnLl5CaiAOcOMFm39fvGboZVNBYTqgRVKWg\" data-ghost-classes=\"artdeco-entity-image--ghost\" data-ghost-url=\"https://static.licdn.com/aero-v1/sc/h/6puxblwmhnodu6fjircz4dn4h\" alt>\\n  \\n    </div>\\n  \\n\\n        <div class=\"base-search-card__info\">\\n          <h3 class=\"base-search-card__title\">\\n            \\n        Data Scientist, Product Analytics\\n      \\n          </h3>\\n\\n            <h4 class=\"base-search-card__subtitle\">\\n              \\n          <a class=\"hidden-nested-link\" data-tracking-client-ingraph data-tracking-control-name=\"public_jobs_jserp-result_job-search-card-subtitle\" data-tracking-will-navigate href=\"https://www.linkedin.com/company/meta?trk=public_jobs_jserp-result_job-search-card-subtitle\">\\n            Meta\\n          </a>\\n      \\n            </h4>\\n\\n<!---->\\n            <div class=\"base-search-card__metadata\">\\n              \\n          <span class=\"job-search-card__location\">\\n            Burlingame, CA\\n          </span>\\n\\n        \\n    \\n    \\n    \\n    \\n\\n      <div class=\"job-posting-benefits text-sm\">\\n        <icon class=\"job-posting-benefits__icon\" data-delayed-url=\"https://static.licdn.com/aero-v1/sc/h/8zmuwb93gzlb935fk4ao4z779\" data-svg-class-name=\"job-posting-benefits__icon-svg\"></icon>\\n        <span class=\"job-posting-benefits__text\">\\n          Be an early applicant\\n<!---->        </span>\\n      </div>\\n  \\n\\n          <time class=\"job-search-card__listdate\" datetime=\"2024-12-17\">\\n            \\n\\n    \\n    \\n    \\n    \\n    \\n    \\n    \\n    \\n    \\n    \\n    \\n    \\n    \\n    \\n    \\n    \\n\\n    \\n    \\n    \\n    \\n    \\n    \\n    \\n    \\n    \\n    \\n    \\n    \\n    \\n    \\n\\n      3 weeks ago\\n  \\n          </time>\\n\\n<!---->      \\n            </div>\\n        </div>\\n<!---->      \\n    \\n      </div>\\n  \\n  \\n  \\n  \\n      </li>\\n  '"
      ]
     },
     "execution_count": 6,
     "metadata": {},
     "output_type": "execute_result"
    }
   ],
   "source": [
    "(response.text)"
   ]
  },
  {
   "cell_type": "code",
   "execution_count": 7,
   "id": "0d0166ab",
   "metadata": {},
   "outputs": [],
   "source": [
    "job_url =\"https://www.linkedin.com/jobs-guest/jobs/api/jobPosting/4043796448?refId=Non6XXO40j%2BdT5s0LxVyhw%3D%3D&trackingId=%2FIOSmTOOfE9LuCI%2B0NQx%2Bg%3D%3D\"\n",
    "\n",
    "response = requests.get(job_url) "
   ]
  },
  {
   "cell_type": "code",
   "execution_count": 8,
   "id": "5de6bc4b",
   "metadata": {},
   "outputs": [
    {
     "data": {
      "text/plain": [
       "<Response [200]>"
      ]
     },
     "execution_count": 8,
     "metadata": {},
     "output_type": "execute_result"
    }
   ],
   "source": [
    "response"
   ]
  },
  {
   "cell_type": "code",
   "execution_count": 11,
   "id": "221afec3",
   "metadata": {},
   "outputs": [],
   "source": [
    "job_id= \"4043796448\"\n",
    "\n",
    "job_url = f\"https://www.linkedin.com/jobs-guest/jobs/api/jobPosting/{job_id}\"\n",
    "\n",
    "job_response = requests.get(job_url)"
   ]
  },
  {
   "cell_type": "code",
   "execution_count": 13,
   "id": "484706d2",
   "metadata": {},
   "outputs": [
    {
     "data": {
      "text/plain": [
       "<Response [200]>"
      ]
     },
     "execution_count": 13,
     "metadata": {},
     "output_type": "execute_result"
    }
   ],
   "source": [
    "job_response"
   ]
  },
  {
   "cell_type": "code",
   "execution_count": null,
   "id": "43cc5375",
   "metadata": {},
   "outputs": [],
   "source": [
    "list_url = f\"https://www.linkedin.com/jobs-guest/jobs/api/seeMoreJobPostings/search?keywords=Data%2BScientist&location=San%2BFrancisco%2BBay%2BArea&geoId=90000084&trk=public_jobs_jobs-search-bar_search-submit&start={page_num}\" \n",
    "\n",
    "\n"
   ]
  },
  {
   "cell_type": "code",
   "execution_count": 3,
   "id": "4d252d05",
   "metadata": {},
   "outputs": [],
   "source": [
    "## Creating loop to go through all pages\n",
    "job_list = []\n",
    "for page_num in range(1,2):\n",
    "    list_url = f\"https://www.linkedin.com/jobs-guest/jobs/api/seeMoreJobPostings/search?keywords=Data%2BScientist&location=San%2BFrancisco%2BBay%2BArea&geoId=90000084&trk=public_jobs_jobs-search-bar_search-submit&start={page_num}\" \n",
    "    # Getting response request from list \n",
    "    response = requests.get(list_url)\n",
    "\n",
    "    list_data = response.text\n",
    "    list_soup = BeautifulSoup(list_data, 'html.parser')\n",
    "    page_jobs = list_soup.find_all(\"li\")\n",
    "    #10 jobs per page\n",
    "    #print(len(page_jobs))\n",
    "    \n",
    "    ## Get job ID's from each page\n",
    "    id_list = []\n",
    "\n",
    "    for job in page_jobs:\n",
    "        base_card_div = job.find(\"div\", {\"class\": \"base-card\"})\n",
    "        job_id = base_card_div.get(\"data-entity-urn\").split(\":\")[3]\n",
    "        id_list.append(job_id)\n",
    "        \n",
    "    # For every job with ID, get the information\n",
    "    for job_id in id_list:\n",
    "        job_url = f\"https://www.linkedin.com/jobs-guest/jobs/api/jobPosting/{job_id}\"\n",
    "        job_response = requests.get(job_url)\n",
    "        if(job_response.status_code == 200):\n",
    "            #print(job_response.status_code)\n",
    "            job_soup = BeautifulSoup(job_response.text, \"html.parser\")\n",
    "            job_post = {}\n",
    "            try:\n",
    "                job_post[\"company_name\"] = job_soup.find( \"a\", {\"class\": \"topcard__org-name-link topcard__flavor--black-link\"}).text.strip()\n",
    "            except: \n",
    "                job_post[\"company_name\"] = None\n",
    "            try:\n",
    "                job_post[\"job_title\"] = job_soup.find( \"h2\", {\"class\": \"top-card-layout__title font-sans text-lg papabear:text-xl font-bold leading-open text-color-text mb-0 topcard__title\"}).text.strip()\n",
    "            except: \n",
    "                job_post[\"job_title\"] = None\n",
    "            try:\n",
    "                job_post[\"job_description\"] = job_soup.find( \"div\", {\"class\":\"show-more-less-html__markup show-more-less-html__markup--clamp-after-5 relative overflow-hidden\" }).text.strip()\n",
    "            except: \n",
    "                job_post[\"job_description\"] = None\n",
    "            try:\n",
    "                job_post[\"days_ago_posted\"] = job_soup.find( \"span\", {\"class\": \"posted-time-ago__text topcard__flavor--metadata\"}).text.strip()\n",
    "            except:\n",
    "                job_post[\"days_ago_posted\"] = None\n",
    "            try:\n",
    "                job_post[\"num_applicants\"] = job_soup.find( \"span\", {\"class\": \"num-applicants__caption topcard__flavor--metadata topcard__flavor--bullet\"}).text.strip()\n",
    "            except:\n",
    "                job_post[\"num_applicants\"] = None\n",
    "            job_list.append(job_post)\n",
    "\n",
    "    \n",
    "    "
   ]
  },
  {
   "cell_type": "code",
   "execution_count": 4,
   "id": "ecdc04f9",
   "metadata": {},
   "outputs": [
    {
     "data": {
      "text/html": [
       "<div>\n",
       "<style scoped>\n",
       "    .dataframe tbody tr th:only-of-type {\n",
       "        vertical-align: middle;\n",
       "    }\n",
       "\n",
       "    .dataframe tbody tr th {\n",
       "        vertical-align: top;\n",
       "    }\n",
       "\n",
       "    .dataframe thead th {\n",
       "        text-align: right;\n",
       "    }\n",
       "</style>\n",
       "<table border=\"1\" class=\"dataframe\">\n",
       "  <thead>\n",
       "    <tr style=\"text-align: right;\">\n",
       "      <th></th>\n",
       "      <th>company_name</th>\n",
       "      <th>job_title</th>\n",
       "      <th>job_description</th>\n",
       "      <th>days_ago_posted</th>\n",
       "      <th>num_applicants</th>\n",
       "    </tr>\n",
       "  </thead>\n",
       "  <tbody>\n",
       "    <tr>\n",
       "      <th>0</th>\n",
       "      <td>Notion</td>\n",
       "      <td>Data Scientist, Product</td>\n",
       "      <td>About UsWe're on a mission to make it possible...</td>\n",
       "      <td>1 week ago</td>\n",
       "      <td>None</td>\n",
       "    </tr>\n",
       "    <tr>\n",
       "      <th>1</th>\n",
       "      <td>Netflix</td>\n",
       "      <td>Machine Learning Engineer Intern, Summer 2025</td>\n",
       "      <td>Netflix is one of the world's leading entertai...</td>\n",
       "      <td>1 month ago</td>\n",
       "      <td>None</td>\n",
       "    </tr>\n",
       "    <tr>\n",
       "      <th>2</th>\n",
       "      <td>Google</td>\n",
       "      <td>Data Scientist, Search Discovery, Research, Se...</td>\n",
       "      <td>Minimum qualifications:Master's degree in Stat...</td>\n",
       "      <td>3 weeks ago</td>\n",
       "      <td>None</td>\n",
       "    </tr>\n",
       "    <tr>\n",
       "      <th>3</th>\n",
       "      <td>Fractal</td>\n",
       "      <td>Data Scientist</td>\n",
       "      <td>Data ScientistFractal Analytics is a strategic...</td>\n",
       "      <td>4 days ago</td>\n",
       "      <td>None</td>\n",
       "    </tr>\n",
       "    <tr>\n",
       "      <th>4</th>\n",
       "      <td>Fractal</td>\n",
       "      <td>Data Scientist</td>\n",
       "      <td>Data ScientistFractal Analytics is a strategic...</td>\n",
       "      <td>1 week ago</td>\n",
       "      <td>None</td>\n",
       "    </tr>\n",
       "    <tr>\n",
       "      <th>5</th>\n",
       "      <td>TikTok</td>\n",
       "      <td>Data Science Graduate (TikTok-Product-Data Sci...</td>\n",
       "      <td>ResponsibilitiesTikTok is the leading destinat...</td>\n",
       "      <td>1 week ago</td>\n",
       "      <td>None</td>\n",
       "    </tr>\n",
       "    <tr>\n",
       "      <th>6</th>\n",
       "      <td>Twitch</td>\n",
       "      <td>Data Scientist - Analytics</td>\n",
       "      <td>About UsTwitch is the world’s biggest live str...</td>\n",
       "      <td>3 weeks ago</td>\n",
       "      <td>None</td>\n",
       "    </tr>\n",
       "    <tr>\n",
       "      <th>7</th>\n",
       "      <td>LinkedIn</td>\n",
       "      <td>AI Engineer</td>\n",
       "      <td>LinkedIn is the world’s largest professional n...</td>\n",
       "      <td>3 weeks ago</td>\n",
       "      <td>None</td>\n",
       "    </tr>\n",
       "    <tr>\n",
       "      <th>8</th>\n",
       "      <td>LinkedIn</td>\n",
       "      <td>Senior Data Scientist - Strategy &amp; Insights</td>\n",
       "      <td>LinkedIn is the world’s largest professional n...</td>\n",
       "      <td>6 days ago</td>\n",
       "      <td>None</td>\n",
       "    </tr>\n",
       "    <tr>\n",
       "      <th>9</th>\n",
       "      <td>Databricks</td>\n",
       "      <td>Data Scientist - New Grad (2025 Start)</td>\n",
       "      <td>(P-978)At Databricks, we are passionate about ...</td>\n",
       "      <td>1 month ago</td>\n",
       "      <td>None</td>\n",
       "    </tr>\n",
       "  </tbody>\n",
       "</table>\n",
       "</div>"
      ],
      "text/plain": [
       "  company_name                                          job_title  \\\n",
       "0       Notion                            Data Scientist, Product   \n",
       "1      Netflix      Machine Learning Engineer Intern, Summer 2025   \n",
       "2       Google  Data Scientist, Search Discovery, Research, Se...   \n",
       "3      Fractal                                     Data Scientist   \n",
       "4      Fractal                                     Data Scientist   \n",
       "5       TikTok  Data Science Graduate (TikTok-Product-Data Sci...   \n",
       "6       Twitch                         Data Scientist - Analytics   \n",
       "7     LinkedIn                                        AI Engineer   \n",
       "8     LinkedIn        Senior Data Scientist - Strategy & Insights   \n",
       "9   Databricks             Data Scientist - New Grad (2025 Start)   \n",
       "\n",
       "                                     job_description days_ago_posted  \\\n",
       "0  About UsWe're on a mission to make it possible...      1 week ago   \n",
       "1  Netflix is one of the world's leading entertai...     1 month ago   \n",
       "2  Minimum qualifications:Master's degree in Stat...     3 weeks ago   \n",
       "3  Data ScientistFractal Analytics is a strategic...      4 days ago   \n",
       "4  Data ScientistFractal Analytics is a strategic...      1 week ago   \n",
       "5  ResponsibilitiesTikTok is the leading destinat...      1 week ago   \n",
       "6  About UsTwitch is the world’s biggest live str...     3 weeks ago   \n",
       "7  LinkedIn is the world’s largest professional n...     3 weeks ago   \n",
       "8  LinkedIn is the world’s largest professional n...      6 days ago   \n",
       "9  (P-978)At Databricks, we are passionate about ...     1 month ago   \n",
       "\n",
       "  num_applicants  \n",
       "0           None  \n",
       "1           None  \n",
       "2           None  \n",
       "3           None  \n",
       "4           None  \n",
       "5           None  \n",
       "6           None  \n",
       "7           None  \n",
       "8           None  \n",
       "9           None  "
      ]
     },
     "execution_count": 4,
     "metadata": {},
     "output_type": "execute_result"
    }
   ],
   "source": [
    "jobs_df = pd.DataFrame(job_list)\n",
    "jobs_df"
   ]
  },
  {
   "cell_type": "code",
   "execution_count": 5,
   "id": "6a9e5d7c-5ef0-4fcf-840a-fbb7ada5973b",
   "metadata": {},
   "outputs": [
    {
     "data": {
      "text/plain": [
       "\"Netflix is one of the world's leading entertainment services, with 283 million paid memberships in over 190 countries enjoying TV series, films and games across a wide variety of genres and languages. Members can play, pause and resume watching as much as they want, anytime, anywhere, and can change their plans at any time.Applied Machine Learning Research at Netflix improves various aspects of our business, including personalization algorithms, content generation, system optimization, and innovative tooling for artists. Our research spans many areas of machine learning, including recommender systems, reinforcement learning, computer vision, natural language processing, optimization, and operations research. Great applied research also requires robust machine learning infrastructure, another large area of emphasis at Netflix.Applicants are encouraged to express their interest in one or multiple types of internships listed if your skills and qualifications are aligned.We Are Looking For Individuals With The Following QualificationsCurrently enrolled PhD student in the Machine Learning or adjacent Engineering space.Some experience with the following machine learning areas:Foundational science: Practical experience in supervised and/or unsupervised machine learning or data science methods.Software engineering: Comfortable with software engineering best practices (e.g. version control, testing, code review, etc.).End-to-end systems: Familiarity end-to-end machine learning pipelines (e.g. training or production deployment) and common challenges like explainability.Experience programming in Python.Curious, self-motivated, and excited about solving open-ended challenges at Netflix.Great communication skills, both oral and written.Comfortable with software engineering best practices (e.g. version control, testing, code review, etc.).For Your Application To Be Considered CompleteYou will be sent an Airtable form shortly after you submit your application on our careers site; your application will not be considered complete until you fill out and submit this form.Include a Resume or CV with complete contact information (email, phone, mailing address) and a list of relevant coursework and publications (if applicable).In the Airtable form, you will be asked to select a primary (or secondary) ML area for your potential internship. This will be used to map your application to particular teams & projects.You will be asked to include a short (max one page) statement describing your research experiences and interests, and (optionally) their relevance to Netflix Research. For inspiration, have a look at the Netflix research site.Internships at Netflix At Netflix, we offer a personalized experience for interns, and our aim is to offer an experience that mimics what it is like to actually work here. We match qualified interns with projects and groups based on interests and skill sets, and fully embed interns within those groups for the summer. Netflix is a unique place to work and we live by our values, so it's worth learning more about our culture.Internships are paid and are a minimum of 12 weeks, with a choice of a few fixed start dates in May or June 2025 to accommodate varying school calendars. Conditions permitting, our 2025 summer internships will be located in our Los Gatos, CA office, or in our Los Angeles, CA office, depending on the team.At Netflix, we carefully consider a wide range of compensation factors to determine the Intern top of market. We rely on market indicators to determine compensation and consider your specific job, skills, and experience to get it right. These considerations can cause your compensation to vary and will also be dependent on your location.The overall market range for Netflix Internships is typically $40/hour - $110/hour.This market range is based on total compensation (vs. only base salary), which is in line with our compensation philosophy. Netflix is a unique culture and environment. Learn more here.Inclusion is a Netflix value and we strive to host a meaningful interview experience for all candidates. If you want an accommodation/adjustment for a disability or any other reason during the hiring process, please send a request to your recruiting partner.We are an equal-opportunity employer and celebrate diversity, recognizing that diversity builds stronger teams. We approach diversity and inclusion seriously and thoughtfully. We do not discriminate on the basis of race, religion, color, ancestry, national origin, caste, sex, sexual orientation, gender, gender identity or expression, age, disability, medical condition, pregnancy, genetic makeup, marital status, or military service.Job is open for no less than 7 days and will be removed when the position is filled.\""
      ]
     },
     "execution_count": 5,
     "metadata": {},
     "output_type": "execute_result"
    }
   ],
   "source": [
    "jobs_df['job_description'][1]"
   ]
  },
  {
   "cell_type": "markdown",
   "id": "82969596",
   "metadata": {},
   "source": [
    "# Trying out NLP Libraries"
   ]
  },
  {
   "cell_type": "code",
   "execution_count": 17,
   "id": "864eefe6",
   "metadata": {
    "scrolled": true
   },
   "outputs": [
    {
     "name": "stdout",
     "output_type": "stream",
     "text": [
      "fri evening commute: 3\n",
      "off peak: 2\n"
     ]
    }
   ],
   "source": [
    "from nltk import ngrams\n",
    "from collections import Counter\n",
    "\n",
    "result = []\n",
    "sentence =  'fri evening commute can be long. some people avoid fri evening commute by choosing off-peak hours. there are much less traffic during off-peak. fri evening commute sucks'\n",
    "#jobs_df['job_description'][1]\n",
    "# Since you are not considering periods and treats words with - as phrases\n",
    "sentence = sentence.replace('.', '').replace('-', ' ')\n",
    "\n",
    "for n in range(len(sentence.split(' ')), 1, -1):\n",
    "    phrases = []\n",
    "\n",
    "    for token in ngrams(sentence.split(), n):\n",
    "        phrases.append(' '.join(token))\n",
    "    #print(Counter(phrases).most_common(1))\n",
    "\n",
    "    phrase, freq = Counter(phrases).most_common(1)[0]\n",
    "    if freq > 1:\n",
    "        result.append((phrase, n))\n",
    "        sentence = sentence.replace(phrase, '')\n",
    "\n",
    "for phrase, freq in result:\n",
    "    print('%s: %d' % (phrase, freq))"
   ]
  },
  {
   "cell_type": "code",
   "execution_count": 41,
   "id": "f27b86a2",
   "metadata": {
    "scrolled": true
   },
   "outputs": [],
   "source": [
    "import nltk\n",
    "from nltk.tokenize import word_tokenize\n",
    "from nltk import ngrams\n",
    "import nltk.collocations\n",
    "from nltk import BigramCollocationFinder\n",
    "from nltk.probability import FreqDist\n",
    "\n",
    "from nltk.corpus import stopwords\n",
    "from nltk.tokenize import word_tokenize"
   ]
  },
  {
   "cell_type": "code",
   "execution_count": 117,
   "id": "889b5027-ada6-4181-b101-77d64e880767",
   "metadata": {},
   "outputs": [],
   "source": [
    "stop_words = set(stopwords.words(\"english\"))\n",
    "stop_words.add(':')\n",
    "stop_words.add(',')\n",
    "stop_words.add('.')\n",
    "stop_words.add(', ')\n",
    "stop_words.add('. ')\n",
    "stop_words.add('*')\n",
    "stop_words.add(\"'\")\n",
    "stop_words.add(\"'s\")\n",
    "stop_words.add('e.g')\n",
    "stop_words.add('employees')\n",
    "stop_words.add('applicants')\n",
    "stop_words.add(')')\n",
    "stop_words.add('(')\n",
    "stop_words.add('eligible')\n",
    "stop_words.add('participate')\n",
    "\n"
   ]
  },
  {
   "cell_type": "code",
   "execution_count": 118,
   "id": "6ee5ceb9-f284-4f64-b25c-366ee87b29c5",
   "metadata": {
    "scrolled": true
   },
   "outputs": [
    {
     "name": "stdout",
     "output_type": "stream",
     "text": [
      "[(('Data', 'Science'), 3), (('product', 'strategy'), 3), (('data', 'scientist'), 2), (('high', 'velocity'), 2), (('Community', 'Health'), 2), (('product', 'improvements'), 2), (('ad', 'hoc'), 2), (('safer', 'rewarding'), 2)]\n",
      "<class 'tuple'>\n"
     ]
    }
   ],
   "source": [
    "## Tokenizing words\n",
    "\n",
    "## In this cell, i'm extracting bigrams from one text example (first row of column job_description) and finding the most common 2 word phrases\n",
    "#nltk.download('punkt')\n",
    "text = jobs_df['job_description'][6]\n",
    "tokens = word_tokenize(text)\n",
    "filtered_list = []\n",
    "for word in tokens:\n",
    "    if word.casefold() not in stop_words:\n",
    "        filtered_list.append(word)\n",
    "\n",
    "n = 2  # For bigrams\n",
    "\n",
    "bigrams = list(ngrams(filtered_list, n))\n",
    "freq_dist = FreqDist(bigrams)\n",
    "print(freq_dist.most_common(8))\n",
    "print(type(freq_dist.most_common(8)[1]))"
   ]
  },
  {
   "cell_type": "code",
   "execution_count": 105,
   "id": "f958d8a1-4ced-41e6-ba42-841af044929d",
   "metadata": {},
   "outputs": [
    {
     "name": "stdout",
     "output_type": "stream",
     "text": [
      "[(('product', 'strategy', 'questions'), 2), (('Analytics', 'Data', 'Science'), 2), (('Data', 'Science', 'Computer'), 2), (('Science', 'Computer', 'Science'), 2), (('Computer', 'Science', 'Mathematics'), 2)]\n"
     ]
    }
   ],
   "source": [
    "n = 3  # For trigrams\n",
    "\n",
    "trigrams = list(ngrams(filtered_list, n))\n",
    "freq_dist = FreqDist(trigrams)\n",
    "print(freq_dist.most_common(5))"
   ]
  },
  {
   "cell_type": "code",
   "execution_count": 119,
   "id": "43fbd8ab-3780-4af3-95b4-d531a8361e56",
   "metadata": {},
   "outputs": [],
   "source": [
    "\n",
    "def get_n_grams(word_list, n, top_n):\n",
    "    '''\n",
    "        Function to return ngrams\n",
    "        word_list: pass lowercase word list (filtered for stop words)\n",
    "        n: the number of words in each phrase (gram)\n",
    "        top_n: top n number of matches \n",
    "    '''\n",
    "    grams = list(ngrams(word_list, n))\n",
    "    freq_dist = FreqDist(grams)\n",
    "    \n",
    "    topn = freq_dist.most_common(top_n)\n",
    "    return(topn)\n"
   ]
  },
  {
   "cell_type": "code",
   "execution_count": 125,
   "id": "86f132d4-5ea5-4f75-945c-4f0e19e16510",
   "metadata": {},
   "outputs": [
    {
     "name": "stdout",
     "output_type": "stream",
     "text": [
      "\n",
      "\n",
      "{('minimum', 'qualifications'): 1, ('p-978', 'databricks'): 1, ('databricks', 'passionate'): 1, ('passionate', 'helping'): 1, ('mission', 'make'): 2, ('toolmaking', 'ubiquitous'): 2, ('notion', '’'): 2, ('product', 'data'): 2, ('science', 'team'): 2, ('team', 'work'): 2, ('software', 'engineering'): 2, ('engineering', 'best'): 2, ('best', 'practices'): 2, ('practices', 'version'): 2, ('version', 'control'): 2, ('control', 'testing'): 2, ('testing', 'code'): 2, ('new', 'product'): 2, ('product', 'features'): 2, ('observational', 'experimental'): 2, ('experimental', 'data'): 2, ('base', 'salary'): 2, ('salary', 'range'): 2, ('data', 'scientistfractal'): 2, ('scientistfractal', 'analytics'): 2, ('tiktok', 'mission'): 2, ('mission', 'inspire'): 2, ('analysis', 'experimentation'): 2, ('reviewed', 'rolling'): 2, ('data', 'scientist'): 2, ('high', 'velocity'): 2, ('community', 'health'): 2, ('product', 'improvements'): 2, ('ad', 'hoc'): 2, ('safer', 'rewarding'): 2, ('role', 'based'): 2, ('based', 'sunnyvale'): 2, ('sunnyvale', 'san'): 2, ('san', 'francisco'): 2, ('francisco', 'bellevue'): 2, ('drive', 'member'): 2, ('actionable', 'recommendations'): 2, ('strategy', 'data-centric'): 2, ('data-centric', 'presentations.•'): 2, ('data', 'ai'): 2, ('data', 'insights'): 2, ('learning', 'methods'): 2, ('pay', 'range'): 2, ('product', 'engineering'): 3, ('growth', 'opportunities'): 3, ('inspire', 'creativity'): 3, ('creativity', 'bring'): 3, ('bring', 'joy'): 3, ('los', 'angeles'): 3, ('product', 'strategy'): 3, ('1+', 'years'): 3, ('cross-functional', 'teams'): 3, ('data', 'team'): 3, ('learning', 'algorithms'): 4, ('working', 'large'): 4, ('range', 'role'): 4, ('compensation', 'decisions'): 4, ('years', 'relevant'): 4, ('equal', 'opportunity'): 6, ('data', 'science'): 16, ('machine', 'learning'): 31}\n",
      "\n",
      "\n",
      "{('uswe', \"'re\", 'mission'): 1, (\"'re\", 'mission', 'make'): 1, ('mission', 'make', 'possible'): 1, ('minimum', 'qualifications', 'master'): 1, ('qualifications', 'master', 'degree'): 1, ('master', 'degree', 'statistics'): 1, ('data', 'scientistfractal', 'analytics'): 1, ('scientistfractal', 'analytics', 'strategic'): 1, ('analytics', 'strategic', 'ai'): 1, ('strategic', 'ai', 'partner'): 1, ('p-978', 'databricks', 'passionate'): 1, ('databricks', 'passionate', 'helping'): 1, ('passionate', 'helping', 'data'): 1, ('helping', 'data', 'teams'): 1, ('data', 'teams', 'solve'): 1, ('product', 'data', 'science'): 2, ('data', 'science', 'team'): 2, ('software', 'engineering', 'best'): 2, ('engineering', 'best', 'practices'): 2, ('best', 'practices', 'version'): 2, ('practices', 'version', 'control'): 2, ('version', 'control', 'testing'): 2, ('new', 'product', 'features'): 2, ('observational', 'experimental', 'data'): 2, ('machine', 'learning', 'algorithms'): 2, ('tiktok', 'mission', 'inspire'): 2, ('mission', 'inspire', 'creativity'): 2, ('reviewed', 'rolling', 'basis'): 2, ('product', 'strategy', 'questions'): 2, ('analytics', 'data', 'science'): 2, ('data', 'science', 'computer'): 2, ('science', 'computer', 'science'): 2, ('computer', 'science', 'mathematics'): 2, ('role', 'based', 'sunnyvale'): 2, ('based', 'sunnyvale', 'san'): 2, ('sunnyvale', 'san', 'francisco'): 2, ('san', 'francisco', 'bellevue'): 2, ('francisco', 'bellevue', 'new'): 2, ('strategy', 'data-centric', 'presentations.•'): 2, ('statistics', 'operations', 'research'): 2, ('informatics', 'engineering', 'applied'): 2, ('engineering', 'applied', 'mathematics'): 2, ('applied', 'mathematics', 'economics'): 2, ('inspire', 'creativity', 'bring'): 3, ('creativity', 'bring', 'joy'): 3}\n"
     ]
    }
   ],
   "source": [
    "## In this cell I'm going to add the list of common tokens to the dataframe\n",
    "\n",
    "bigram_list = []\n",
    "trigram_list = []\n",
    "\n",
    "#Create a dictionary of the most common bigrams\n",
    "bigram_dict = {}\n",
    "trigram_dict = {}\n",
    "\n",
    "#for every job in job_list dataframe\n",
    "for job in job_list:\n",
    "    #Grab the job description\n",
    "    text = job['job_description']\n",
    "\n",
    "    #Tokenize and filter unnecessary words, and put relevant words i\n",
    "    tokens = word_tokenize(text)\n",
    "    filtered_list = []\n",
    "    for word in tokens:\n",
    "        if word.casefold() not in stop_words:\n",
    "            filtered_list.append(word.lower())  \n",
    "    \n",
    "    # For bigrams\n",
    "    # add bigrams\n",
    "    top8 = get_n_grams(filtered_list, 2, 8)\n",
    "    bigram_list.append(top8)\n",
    "    for tup in top8:\n",
    "        if tup[0] not in bigram_dict:\n",
    "            bigram_dict[tup[0]] = tup[1]\n",
    "        else:\n",
    "            bigram_dict[tup[0]] += tup[1]\n",
    "\n",
    "    # add trigrams\n",
    "    top5 = get_n_grams(filtered_list, 3, 5)\n",
    "    bigram_list.append(top5)\n",
    "    for tup in top5:\n",
    "        if tup[0] not in bigram_dict:\n",
    "            trigram_dict[tup[0]] = tup[1]\n",
    "        else:\n",
    "            trigram_dict[tup[0]] += tup[1]\n",
    "\n",
    "\n",
    "sorted_dict_bigram = dict(sorted(bigram_dict.items(), key=lambda item: item[1]))\n",
    "sorted_dict_trigram = dict(sorted(trigram_dict.items(), key=lambda item: item[1]))\n",
    "\n",
    "print('\\n')\n",
    "print(sorted_dict_bigram)\n",
    "print('\\n')\n",
    "print(sorted_dict_trigram)"
   ]
  },
  {
   "cell_type": "markdown",
   "id": "ce5e6837-d08e-4cea-b97d-4208797fac1c",
   "metadata": {
    "jp-MarkdownHeadingCollapsed": true
   },
   "source": []
  },
  {
   "cell_type": "markdown",
   "id": "8f45dc85-52bd-4589-9913-9274f67c86cf",
   "metadata": {
    "scrolled": true
   },
   "source": [
    "import gensim\n",
    "from gensim import corpora\n",
    "\n",
    "documents = [\"Human machine interface for lab abc computer applications\",\n",
    "             \"A survey of user opinion of computer system response time\"]\n",
    "\n",
    "texts = [doc.split() for doc in documents]\n",
    "dictionary = corpora.Dictionary(texts)\n",
    "corpus = [dictionary.doc2bow(text) for text in texts]\n",
    "lda = gensim.models.ldamodel.LdaModel(corpus, num_topics=3, id2word=dictionary, passes=15)\n",
    "print(lda.print_topics(num_topics=3, num_words=3))"
   ]
  },
  {
   "cell_type": "code",
   "execution_count": 30,
   "id": "91016fcd",
   "metadata": {},
   "outputs": [],
   "source": [
    "# Installation\n",
    "#!pip3 install pytextrank\n",
    "\n",
    "import spacy\n",
    "import pytextrank\n"
   ]
  },
  {
   "cell_type": "code",
   "execution_count": 39,
   "id": "7e70c190",
   "metadata": {
    "scrolled": true
   },
   "outputs": [
    {
     "data": {
      "text/plain": [
       "[('0', '0'),\n",
       " ('A', 'I'),\n",
       " ('.', 'E'),\n",
       " ('q', 'u'),\n",
       " ('.', 'P'),\n",
       " ('x', 'p'),\n",
       " ('T', 'h'),\n",
       " ('Y', 'o'),\n",
       " ('F', 'r'),\n",
       " ('C', 'o')]"
      ]
     },
     "execution_count": 39,
     "metadata": {},
     "output_type": "execute_result"
    }
   ],
   "source": [
    "bigram_measures = nltk.collocations.BigramAssocMeasures()\n",
    "trigram_measures = nltk.collocations.TrigramAssocMeasures()\n",
    "\n",
    "# change this to read in your data\n",
    "finder = BigramCollocationFinder.from_words(jobs_df['job_description'][4])\n",
    "# only bigrams that appear 3+ times\n",
    "finder.apply_freq_filter(3)\n",
    "\n",
    "# return the 10 n-grams with the highest PMI\n",
    "finder.nbest(bigram_measures.pmi, 10)"
   ]
  }
 ],
 "metadata": {
  "kernelspec": {
   "display_name": "Python 3 (ipykernel)",
   "language": "python",
   "name": "python3"
  },
  "language_info": {
   "codemirror_mode": {
    "name": "ipython",
    "version": 3
   },
   "file_extension": ".py",
   "mimetype": "text/x-python",
   "name": "python",
   "nbconvert_exporter": "python",
   "pygments_lexer": "ipython3",
   "version": "3.10.11"
  }
 },
 "nbformat": 4,
 "nbformat_minor": 5
}
