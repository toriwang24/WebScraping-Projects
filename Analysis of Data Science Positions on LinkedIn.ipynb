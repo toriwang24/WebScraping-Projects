{
 "cells": [
  {
   "cell_type": "markdown",
   "id": "206b954e",
   "metadata": {},
   "source": [
    "## This is an experimental notebook to conduct analysis on data scientist positions on Linkedin"
   ]
  },
  {
   "cell_type": "code",
   "execution_count": 8,
   "id": "91772ed4",
   "metadata": {},
   "outputs": [],
   "source": [
    "import requests\n",
    "from bs4 import BeautifulSoup\n",
    "import random\n",
    "import pandas as pd"
   ]
  },
  {
   "cell_type": "markdown",
   "id": "236fcf89-48bf-4510-9fce-7474bf3001f5",
   "metadata": {},
   "source": [
    "## The following cell collects linkedin job data and creates a dataframe with 531 rows.\n",
    "\n",
    "Do not rerun!! The data has been collected to a csv file 'data.csv'"
   ]
  },
  {
   "cell_type": "code",
   "execution_count": 5,
   "id": "8e08e9cf",
   "metadata": {},
   "outputs": [],
   "source": [
    "## Creating loop to go through all pages\n",
    "job_list = []\n",
    "for page_num in range(1,100):\n",
    "    list_url = f\"https://www.linkedin.com/jobs-guest/jobs/api/seeMoreJobPostings/search?keywords=Data%2BScientist&location=San%2BFrancisco%2BBay%2BArea&geoId=90000084&trk=public_jobs_jobs-search-bar_search-submit&start={page_num}\" \n",
    "    # Getting response request from list \n",
    "    response = requests.get(list_url)\n",
    "\n",
    "    list_data = response.text\n",
    "    list_soup = BeautifulSoup(list_data, 'html.parser')\n",
    "    page_jobs = list_soup.find_all(\"li\")\n",
    "    #10 jobs per page\n",
    "    #print(len(page_jobs))\n",
    "    \n",
    "    ## Get job ID's from each page\n",
    "    id_list = []\n",
    "\n",
    "    for job in page_jobs:\n",
    "        base_card_div = job.find(\"div\", {\"class\": \"base-card\"})\n",
    "        job_id = base_card_div.get(\"data-entity-urn\").split(\":\")[3]\n",
    "        id_list.append(job_id)\n",
    "        \n",
    "    # For every job with ID, get the information\n",
    "    for job_id in id_list:\n",
    "        job_url = f\"https://www.linkedin.com/jobs-guest/jobs/api/jobPosting/{job_id}\"\n",
    "        job_response = requests.get(job_url)\n",
    "        if(job_response.status_code == 200):\n",
    "            #print(job_response.status_code)\n",
    "            job_soup = BeautifulSoup(job_response.text, \"html.parser\")\n",
    "            job_post = {}\n",
    "            try:\n",
    "                job_post[\"company_name\"] = job_soup.find( \"a\", {\"class\": \"topcard__org-name-link topcard__flavor--black-link\"}).text.strip()\n",
    "            except: \n",
    "                job_post[\"company_name\"] = None\n",
    "            try:\n",
    "                job_post[\"job_title\"] = job_soup.find( \"h2\", {\"class\": \"top-card-layout__title font-sans text-lg papabear:text-xl font-bold leading-open text-color-text mb-0 topcard__title\"}).text.strip()\n",
    "            except: \n",
    "                job_post[\"job_title\"] = None\n",
    "            try:\n",
    "                job_post[\"job_description\"] = job_soup.find( \"div\", {\"class\":\"show-more-less-html__markup show-more-less-html__markup--clamp-after-5 relative overflow-hidden\" }).text.strip()\n",
    "            except: \n",
    "                job_post[\"job_description\"] = None\n",
    "            try:\n",
    "                job_post[\"days_ago_posted\"] = job_soup.find( \"span\", {\"class\": \"posted-time-ago__text topcard__flavor--metadata\"}).text.strip()\n",
    "            except:\n",
    "                job_post[\"days_ago_posted\"] = None\n",
    "            try:\n",
    "                job_post[\"num_applicants\"] = job_soup.find( \"figcaption\", {\"class\": \"num-applicants__caption\"}).text.strip()\n",
    "            except:\n",
    "                job_post[\"num_applicants\"] = None\n",
    "            job_list.append(job_post)\n",
    "\n",
    "\n"
   ]
  },
  {
   "cell_type": "code",
   "execution_count": 6,
   "id": "65d638bc",
   "metadata": {},
   "outputs": [
    {
     "data": {
      "text/html": [
       "<div>\n",
       "<style scoped>\n",
       "    .dataframe tbody tr th:only-of-type {\n",
       "        vertical-align: middle;\n",
       "    }\n",
       "\n",
       "    .dataframe tbody tr th {\n",
       "        vertical-align: top;\n",
       "    }\n",
       "\n",
       "    .dataframe thead th {\n",
       "        text-align: right;\n",
       "    }\n",
       "</style>\n",
       "<table border=\"1\" class=\"dataframe\">\n",
       "  <thead>\n",
       "    <tr style=\"text-align: right;\">\n",
       "      <th></th>\n",
       "      <th>company_name</th>\n",
       "      <th>job_title</th>\n",
       "      <th>job_description</th>\n",
       "      <th>days_ago_posted</th>\n",
       "      <th>num_applicants</th>\n",
       "    </tr>\n",
       "  </thead>\n",
       "  <tbody>\n",
       "    <tr>\n",
       "      <th>0</th>\n",
       "      <td>Notion</td>\n",
       "      <td>Data Scientist, Product</td>\n",
       "      <td>About UsWe're on a mission to make it possible...</td>\n",
       "      <td>1 week ago</td>\n",
       "      <td>Over 200 applicants</td>\n",
       "    </tr>\n",
       "    <tr>\n",
       "      <th>1</th>\n",
       "      <td>Netflix</td>\n",
       "      <td>Machine Learning Engineer Intern, Summer 2025</td>\n",
       "      <td>Netflix is one of the world's leading entertai...</td>\n",
       "      <td>1 month ago</td>\n",
       "      <td>Over 200 applicants</td>\n",
       "    </tr>\n",
       "    <tr>\n",
       "      <th>2</th>\n",
       "      <td>Google</td>\n",
       "      <td>Data Scientist, Search Discovery, Research, Se...</td>\n",
       "      <td>Minimum qualifications:Master's degree in Stat...</td>\n",
       "      <td>3 weeks ago</td>\n",
       "      <td>Over 200 applicants</td>\n",
       "    </tr>\n",
       "    <tr>\n",
       "      <th>3</th>\n",
       "      <td>Fractal</td>\n",
       "      <td>Data Scientist</td>\n",
       "      <td>Data ScientistFractal Analytics is a strategic...</td>\n",
       "      <td>3 days ago</td>\n",
       "      <td>Over 200 applicants</td>\n",
       "    </tr>\n",
       "    <tr>\n",
       "      <th>4</th>\n",
       "      <td>Fractal</td>\n",
       "      <td>Data Scientist</td>\n",
       "      <td>Data ScientistFractal Analytics is a strategic...</td>\n",
       "      <td>6 days ago</td>\n",
       "      <td>Over 200 applicants</td>\n",
       "    </tr>\n",
       "    <tr>\n",
       "      <th>...</th>\n",
       "      <td>...</td>\n",
       "      <td>...</td>\n",
       "      <td>...</td>\n",
       "      <td>...</td>\n",
       "      <td>...</td>\n",
       "    </tr>\n",
       "    <tr>\n",
       "      <th>527</th>\n",
       "      <td>SynergisticIT</td>\n",
       "      <td>: Entry Level Data Scientist</td>\n",
       "      <td>About UsSynergistic IT is a full-service staff...</td>\n",
       "      <td>4 months ago</td>\n",
       "      <td>Be among the first 25 applicants</td>\n",
       "    </tr>\n",
       "    <tr>\n",
       "      <th>528</th>\n",
       "      <td>SoFi</td>\n",
       "      <td>Staff Data Scientist, Home Loans</td>\n",
       "      <td>Employee Applicant Privacy NoticeWho we are:Sh...</td>\n",
       "      <td>2 days ago</td>\n",
       "      <td>None</td>\n",
       "    </tr>\n",
       "    <tr>\n",
       "      <th>529</th>\n",
       "      <td>Meta</td>\n",
       "      <td>Data Scientist, Product Analytics</td>\n",
       "      <td>As a Data Scientist at Meta, you will shape th...</td>\n",
       "      <td>3 weeks ago</td>\n",
       "      <td>Be among the first 25 applicants</td>\n",
       "    </tr>\n",
       "    <tr>\n",
       "      <th>530</th>\n",
       "      <td>LinkedIn</td>\n",
       "      <td>Senior AI Scientist</td>\n",
       "      <td>LinkedIn is the world’s largest professional n...</td>\n",
       "      <td>2 weeks ago</td>\n",
       "      <td>Over 200 applicants</td>\n",
       "    </tr>\n",
       "    <tr>\n",
       "      <th>531</th>\n",
       "      <td>dynamism vc</td>\n",
       "      <td>Machine Learning Engineer</td>\n",
       "      <td>AI / Machine Learning Engineers with Full Stac...</td>\n",
       "      <td>2 weeks ago</td>\n",
       "      <td>Over 200 applicants</td>\n",
       "    </tr>\n",
       "  </tbody>\n",
       "</table>\n",
       "<p>532 rows × 5 columns</p>\n",
       "</div>"
      ],
      "text/plain": [
       "      company_name                                          job_title  \\\n",
       "0           Notion                            Data Scientist, Product   \n",
       "1          Netflix      Machine Learning Engineer Intern, Summer 2025   \n",
       "2           Google  Data Scientist, Search Discovery, Research, Se...   \n",
       "3          Fractal                                     Data Scientist   \n",
       "4          Fractal                                     Data Scientist   \n",
       "..             ...                                                ...   \n",
       "527  SynergisticIT                       : Entry Level Data Scientist   \n",
       "528           SoFi                   Staff Data Scientist, Home Loans   \n",
       "529           Meta                  Data Scientist, Product Analytics   \n",
       "530       LinkedIn                                Senior AI Scientist   \n",
       "531    dynamism vc                          Machine Learning Engineer   \n",
       "\n",
       "                                       job_description days_ago_posted  \\\n",
       "0    About UsWe're on a mission to make it possible...      1 week ago   \n",
       "1    Netflix is one of the world's leading entertai...     1 month ago   \n",
       "2    Minimum qualifications:Master's degree in Stat...     3 weeks ago   \n",
       "3    Data ScientistFractal Analytics is a strategic...      3 days ago   \n",
       "4    Data ScientistFractal Analytics is a strategic...      6 days ago   \n",
       "..                                                 ...             ...   \n",
       "527  About UsSynergistic IT is a full-service staff...    4 months ago   \n",
       "528  Employee Applicant Privacy NoticeWho we are:Sh...      2 days ago   \n",
       "529  As a Data Scientist at Meta, you will shape th...     3 weeks ago   \n",
       "530  LinkedIn is the world’s largest professional n...     2 weeks ago   \n",
       "531  AI / Machine Learning Engineers with Full Stac...     2 weeks ago   \n",
       "\n",
       "                       num_applicants  \n",
       "0                 Over 200 applicants  \n",
       "1                 Over 200 applicants  \n",
       "2                 Over 200 applicants  \n",
       "3                 Over 200 applicants  \n",
       "4                 Over 200 applicants  \n",
       "..                                ...  \n",
       "527  Be among the first 25 applicants  \n",
       "528                              None  \n",
       "529  Be among the first 25 applicants  \n",
       "530               Over 200 applicants  \n",
       "531               Over 200 applicants  \n",
       "\n",
       "[532 rows x 5 columns]"
      ]
     },
     "execution_count": 6,
     "metadata": {},
     "output_type": "execute_result"
    }
   ],
   "source": [
    "jobs_df = pd.DataFrame(job_list)\n",
    "jobs_df"
   ]
  },
  {
   "cell_type": "code",
   "execution_count": 7,
   "id": "1a96c7fe-2a05-4e3d-bce0-f157a671a195",
   "metadata": {},
   "outputs": [],
   "source": [
    "jobs_df.to_csv('data.csv', index=False)"
   ]
  },
  {
   "cell_type": "markdown",
   "id": "68e1580b-05cf-496a-a603-7c3ba79d6165",
   "metadata": {},
   "source": [
    "## From here on we will use the data.csv file that we exported the data to"
   ]
  },
  {
   "cell_type": "code",
   "execution_count": 9,
   "id": "c6853275-776c-448c-aca0-c98851b34396",
   "metadata": {},
   "outputs": [
    {
     "data": {
      "text/plain": [
       "'/Users/toriwang/Documents/GitHub/WebScraping-Projects'"
      ]
     },
     "execution_count": 9,
     "metadata": {},
     "output_type": "execute_result"
    }
   ],
   "source": [
    "import os\n",
    "os.getcwd() "
   ]
  },
  {
   "cell_type": "code",
   "execution_count": 10,
   "id": "4c6e7476-2881-4ed2-af2c-894c53261e5c",
   "metadata": {},
   "outputs": [
    {
     "name": "stdout",
     "output_type": "stream",
     "text": [
      "/Library/Frameworks/Python.framework/Versions/3.10/bin/python3.10\n"
     ]
    }
   ],
   "source": [
    "import sys\n",
    "print(sys.executable)"
   ]
  },
  {
   "cell_type": "code",
   "execution_count": 11,
   "id": "ac21b94e-eb98-49d4-af5e-d6fb081ea7b1",
   "metadata": {},
   "outputs": [],
   "source": [
    "jobs_df = pd.read_csv('job_data.csv') "
   ]
  },
  {
   "cell_type": "code",
   "execution_count": 23,
   "id": "52da9a72-7d31-448c-a0a6-b67772937832",
   "metadata": {},
   "outputs": [
    {
     "name": "stdout",
     "output_type": "stream",
     "text": [
      "<class 'pandas.core.frame.DataFrame'>\n"
     ]
    }
   ],
   "source": [
    "print(type(jobs_df))"
   ]
  },
  {
   "cell_type": "code",
   "execution_count": 12,
   "id": "fcfd3203-1492-45b6-a924-04be927a82bb",
   "metadata": {},
   "outputs": [],
   "source": [
    "import nltk\n",
    "from nltk.tokenize import word_tokenize\n",
    "from nltk import ngrams\n",
    "import nltk.collocations\n",
    "from nltk import BigramCollocationFinder\n",
    "from nltk.probability import FreqDist\n",
    "\n",
    "from nltk.corpus import stopwords\n",
    "from nltk.tokenize import word_tokenize"
   ]
  },
  {
   "cell_type": "code",
   "execution_count": 13,
   "id": "2218577f-caad-488a-9a8d-2bae61bc067a",
   "metadata": {},
   "outputs": [],
   "source": [
    "stop_words = set(stopwords.words(\"english\"))\n",
    "stop_words.add(':')\n",
    "stop_words.add(',')\n",
    "stop_words.add('.')\n",
    "stop_words.add(', ')\n",
    "stop_words.add('. ')\n",
    "stop_words.add('*')\n",
    "stop_words.add(\"'\")\n",
    "stop_words.add(\"'s\")\n",
    "stop_words.add('e.g')\n",
    "stop_words.add('employees')\n",
    "stop_words.add('applicants')\n",
    "stop_words.add(')')\n",
    "stop_words.add('(')\n",
    "stop_words.add('eligible')\n",
    "stop_words.add('participate')"
   ]
  },
  {
   "cell_type": "code",
   "execution_count": 14,
   "id": "3b7a1243-d988-43a9-9b07-e833627cae9a",
   "metadata": {},
   "outputs": [],
   "source": [
    "\n",
    "def get_n_grams(word_list, n, top_n):\n",
    "    '''\n",
    "        Function to return ngrams\n",
    "        word_list: pass lowercase word list (filtered for stop words)\n",
    "        n: the number of words in each phrase (gram)\n",
    "        top_n: top n number of matches \n",
    "    '''\n",
    "    grams = list(ngrams(word_list, n))\n",
    "    freq_dist = FreqDist(grams)\n",
    "    \n",
    "    topn = freq_dist.most_common(top_n)\n",
    "    return(topn)\n"
   ]
  },
  {
   "cell_type": "code",
   "execution_count": 34,
   "id": "52aa6f16-3c8d-463e-b123-9bd4b439b102",
   "metadata": {},
   "outputs": [],
   "source": [
    "## In this cell I'm going to add the list of common tokens to the dataframe\n",
    "\n",
    "bigram_list = []\n",
    "trigram_list = []\n",
    "\n",
    "#Create a dictionary of the most common bigrams\n",
    "bigram_dict = {}\n",
    "trigram_dict = {}\n",
    "\n",
    "#for every job in job_list dataframe\n",
    "for i in range(len(jobs_df)): # change to len(jobs_df)\n",
    "    # print(jobs_df['job_description'][i], '\\n')\n",
    "    # Grab the job description\n",
    "    text = jobs_df['job_description'][i]\n",
    "\n",
    "    #Tokenize and filter unnecessary words, and put relevant words i\n",
    "    tokens = word_tokenize(text)\n",
    "    filtered_list = []\n",
    "    for word in tokens:\n",
    "        if word.casefold() not in stop_words:\n",
    "            filtered_list.append(word.lower())  \n",
    "    \n",
    "    # For bigrams\n",
    "    # add bigrams\n",
    "    top8 = get_n_grams(filtered_list, 2, 8)\n",
    "    bigram_list.append(top8)\n",
    "    for tup in top8:\n",
    "        if tup[0] not in bigram_dict:\n",
    "            bigram_dict[tup[0]] = tup[1]\n",
    "        else:\n",
    "            bigram_dict[tup[0]] += tup[1]\n",
    "\n",
    "    # add trigrams\n",
    "    top5 = get_n_grams(filtered_list, 3, 2)\n",
    "    bigram_list.append(top5)\n",
    "    for tup in top5:\n",
    "        if tup[0] not in bigram_dict:\n",
    "            trigram_dict[tup[0]] = tup[1]\n",
    "        else:\n",
    "            trigram_dict[tup[0]] += tup[1]\n",
    "\n",
    "\n",
    "sorted_dict_bigram = dict(sorted(bigram_dict.items(), key=lambda item: item[1],  reverse=True))\n",
    "sorted_dict_trigram = dict(sorted(trigram_dict.items(), key=lambda item: item[1],  reverse=True))"
   ]
  },
  {
   "cell_type": "code",
   "execution_count": 39,
   "id": "02640fc2-5a79-4ae8-88f7-51d1aebdaf9c",
   "metadata": {},
   "outputs": [
    {
     "name": "stdout",
     "output_type": "stream",
     "text": [
      "648\n",
      "{('machine', 'learning'): 1010, ('data', 'science'): 312, ('team', 'members'): 150, ('data', 'scientist'): 137, ('equal', 'opportunity'): 95, ('around', 'world'): 94, ('shape', 'future'): 88, ('products', 'build'): 88, ('digital', 'experiences'): 86, ('ml', 'models'): 83, ('data', 'sets'): 76, ('billions', 'people'): 74, ('people', 'hundreds'): 74, ('hundreds', 'millions'): 74, ('learning', 'models'): 66, ('deep', 'learning'): 66, ('wide', 'array'): 64, ('years', 'experience'): 61, ('learning', 'algorithms'): 53, ('cross-functional', 'teams'): 53, ('tecton', '’'): 52, ('use', 'cases'): 52, ('generative', 'ai'): 52, ('inspire', 'creativity'): 51, ('creativity', 'bring'): 51, ('bring', 'joy'): 51, ('los', 'angeles'): 51, ('adobe', '’'): 51, ('data', 'analysis'): 49, ('data', 'scientists'): 49, ('paid', 'time'): 48, ('help', 'us'): 43, ('skills', 'experience'): 42, ('’', 'genai'): 39, ('genai', 'use'): 39, ('world', 'digital'): 37, ('experiences', 'adobe'): 37, ('’', 'give'): 37, ('years', 'relevant'): 36, ('ai', 'research'): 36, ('mission', 'inspire'): 34, ('inclusive', 'diverse'): 34, ('product', 'strategy'): 33, ('learning', 'engineer'): 32, ('model', 'training'): 31, ('product', 'development'): 30, ('believe', 'ml'): 30, ('strong', 'technical'): 30, ('linkedin', '’'): 30, ('samsung', 'ads'): 30, ('give', 'everyone—from'): 30, ('everyone—from', 'emerging'): 30, ('emerging', 'artists'): 30, ('computer', 'science'): 30, ('team', 'owns'): 29, ('ai', 'applications'): 28, ('including', 'limited'): 27, ('san', 'francisco'): 26, ('opportunity', 'employer'): 26, ('new', 'york'): 26, ('customers', '’'): 26, ('product', 'engineering'): 24, ('salary', 'range'): 24, ('high', 'velocity'): 24, ('use', 'data'): 24, ('pricing', 'team'): 24, ('distributed', 'training'): 24, ('best', 'practices'): 22, ('hands', 'experience'): 22, ('scientist', '/ml'): 22, ('/ml', 'engineer'): 22, ('subject', 'matter'): 22, ('matter', 'experts'): 22, ('work', 'experience'): 22, ('linkedin', 'committed'): 21, ('decision', 'making'): 21, ('drive', 'member'): 20, ('staff', 'data'): 20, ('business', 'problems'): 20, ('job', 'market'): 20, ('customer', 'service'): 20, ('rapidly', 'changing'): 20, ('supply', '/'): 20, ('/', 'demand'): 20, ('--', '--'): 19, ('working', 'large'): 18, ('range', 'role'): 18, ('compensation', 'decisions'): 18, ('tiktok', 'mission'): 18, ('data', 'insights'): 18, ('achieve', 'financial'): 18, ('efficient', 'scalable'): 18, ('statistical', 'modeling'): 18, ('learning', 'products'): 18, ('santa', 'clara'): 18, ('clara', 'ca'): 18, ('degree', 'computer'): 18, ('since', '2010'): 18, ('team', 'help'): 17, ('team', 'building'): 16, ('ground', 'truth'): 16, ('experience', 'data'): 16, ('distributed', 'systems'): 16, ('tech', 'job'): 16, ('ai', 'platform'): 16, ('1+', 'years'): 15, ('#', 'teamnextdoornextdoor'): 15, ('teamnextdoornextdoor', 'connect'): 15, ('data', 'processing'): 15, ('4+', 'years'): 15, ('qualifications', 'experience'): 15, ('multi-omics', 'data'): 15, ('full-service', 'staffing'): 15, ('staffing', 'placement'): 15, ('placement', 'firm'): 15, ('firm', 'servicing'): 15, ('servicing', 'client'): 15, ('gen', 'ai'): 15, ('software', 'vendors'): 15, ('ai', 'models'): 15, ('software', 'engineering'): 14, ('analysis', 'experimentation'): 14, ('scientist', 'intern'): 14, ('work', 'authorization'): 14, ('experience', 'working'): 14, ('personalization', 'systems'): 14, ('learning', 'software'): 14, ('creator', 'viewer'): 14, ('product', 'strategies'): 14, ('analytics', 'data'): 14, ('optimization', 'inference'): 14, ('human-ai', 'interaction'): 14, ('ml', 'ops'): 14, ('including', 'los'): 14, ('related', 'work'): 14, (\"'re\", 'excited'): 14, ('hypothesis', 'testing'): 14, ('essential', 'metrics'): 14, ('part', 'hiring'): 14, ('hiring', 'and/or'): 14, ('using', 'covey'): 14, ('science', 'mathematics'): 14, ('mathematics', 'physics'): 14, ('physics', 'relevant'): 14, ('relevant', 'technical'): 14, ('practical', 'experience'): 14, ('’', 'looking'): 14, ('clinical', 'trial'): 14, ('slope', '’'): 14, ('data', 'analytics'): 14, ('small', 'business'): 14, ('companychanging', 'world'): 13, ('small', 'molecule'): 13, ('ml', 'research'): 13, ('growth', 'opportunities'): 12, ('base', 'salary'): 12, ('actionable', 'recommendations'): 12, ('strategy', 'data-centric'): 12, ('data-centric', 'presentations.•'): 12, ('data', 'team'): 12, ('backgrounds', 'experiences'): 12, ('economic', 'opportunity'): 12, ('opportunity', 'every'): 12, ('every', 'member'): 12, ('billion', 'matches'): 12, ('problem', 'solvers'): 12, ('workplace', 'reflects'): 12, ('reflects', 'rich'): 12, ('rich', 'diversity'): 12, ('diversity', 'members'): 12, ('working', 'mmms'): 12, ('mmms', '--'): 12, ('--', 'preferred'): 12, ('preferred', 'ml'): 12, ('ml', 'linear'): 12, ('linear', 'regression'): 12, ('code', 'quality'): 12, ('mlops', 'practices'): 12, ('lyft', 'purpose'): 12, ('applies', 'ai'): 12, ('ai', 'machine'): 12, ('learning', 'techniques'): 12, ('learning', 'model'): 12, ('model', 'engineer'): 12, ('advertising', 'industry'): 12, ('latest', 'machine'): 12, ('develop', 'deploy'): 12, ('inspiration', 'create'): 12, ('create', 'life'): 12, ('life', 'love'): 12, ('scientific', 'rigor'): 12, ('conversational', 'ai'): 12, ('challenging', 'problems'): 12, ('autonomous', 'driving'): 12, ('foundation', 'models'): 12, ('2+', 'years'): 12, ('tech', 'companies'): 12, ('?', '|'): 12, ('|', 'synergisticit'): 12, ('fp', '&'): 12, ('agentic', 'ai'): 12, ('drug', 'discovery'): 12, ('year', '’'): 12, ('ai', 'application'): 12, ('data', 'engineering'): 11, ('community', 'health'): 10, ('product', 'improvements'): 10, ('ad', 'hoc'): 10, ('safer', 'rewarding'): 10, ('role', 'based'): 10, ('based', 'sunnyvale'): 10, ('sunnyvale', 'san'): 10, ('francisco', 'bellevue'): 10, ('tools', 'e.g.'): 10, ('least', '18+'): 10, ('18+', 'years'): 10, ('enrolled', 'full-time'): 10, ('full-time', 'student'): 10, ('student', 'accredited'): 10, ('accredited', 'institution'): 10, ('paradyme', '’'): 10, ('junior', 'ai/ml'): 10, ('ai/ml', 'software'): 10, ('software', 'developer'): 10, ('experience', 'javascript'): 10, ('object-oriented', 'programming'): 10, ('work', 'may'): 10, ('track', 'record'): 10, ('using', 'databricks'): 10, ('novel', 'biomarkers'): 10, ('client', 'america'): 10, ('america', 'past'): 10, ('entry-level', 'python'): 10, ('phone', 'calls'): 10, ('calls', 'please'): 10, ('please', 'shortlisted'): 10, ('shortlisted', 'candidates'): 10, ('candidates', 'would'): 10, ('would', 'reached'): 10, ('mathematical', 'problems'): 10, ('uber', 'financial'): 10, ('insights', 'data'): 10, ('key', 'business'): 10, ('usd', '$'): 10, ('per', 'year'): 10, ('’', 'like'): 10, ('know', '’'): 10, ('need', '’'): 10, ('financial', 'goals'): 10, ('sagetap', 'raises'): 10, ('raises', '$'): 10, ('fully', 'remote'): 10, ('natural', 'language'): 10, ('language', 'processing'): 10, ('3d', 'modelling'): 10, ('salary', 'ranges'): 10, ('applied', 'machine'): 10, ('stealth', 'mode'): 10, ('mode', 'genai'): 10, ('coding', 'skills'): 10, ('take', 'ownership'): 10, ('plant', 'operations'): 10, ('learning', 'experience'): 10, ('years', 'work'): 10, ('experience', 'using'): 10, ('using', 'analytics'): 10, ('analytics', 'solve'): 10, ('solve', 'product'): 10, ('product', 'business'): 10, ('data', 'scientistfractal'): 9, ('scientistfractal', 'analytics'): 9, ('ai', 'technologies'): 9, ('brahma', 'consulting'): 9, ('consulting', 'group'): 9, ('group', 'recruitment'): 9, ('recruitment', 'firm'): 9, ('merchants', 'consumers'): 9, ('paypal', 'venmo'): 9, ('conduct', 'rigorous'): 9, ('visit', 'https'): 9, ('first', '21'): 9, ('model', 'quantization'): 9, ('quantization', 'parallel'): 9, ('werq', 'ai'): 9, ('customer', 'experience'): 9, ('new', 'product'): 8, ('product', 'features'): 8, ('observational', 'experimental'): 8, ('experimental', 'data'): 8, ('data', 'ai'): 8, ('learning', 'methods'): 8, ('pay', 'range'): 8, ('learning', 'ai'): 8, ('test', 'approach'): 8, ('approach', 'given'): 8, ('business', 'decisions'): 8, ('identify', 'business'): 8, ('actively', 'hiring'): 8, ('hiring', 'data'): 8, ('data', 'scientistlocation'): 8, ('scientistlocation', 'fremont'): 8, ('fremont', 'ca'): 8, ('ca', 'local'): 8, ('local', 'hybrid'): 8, ('hybrid', 'design'): 8, ('speech', 'synthesis'): 8, ('solving', 'challenging'): 8, ('founding', 'engineer'): 8, ('experience', 'deep'): 8, ('learning', 'infrastructure'): 8, ('synergistic', 'full-service'): 8, ('waymo', 'driver'): 8, ('waymo', 'ml'): 8, ('ml', 'accelerator'): 8, ('discord', 'plays'): 8, ('plays', 'uniquely'): 8, ('uniquely', 'important'): 8, ('important', 'role'): 8, ('role', 'future'): 8, ('future', 'gaming'): 8, ('make', 'careers'): 8, ('data', 'science/machine'): 8, ('degree', 'masters'): 8, ('get', 'employed'): 8, ('finance', 'product'): 8, ('product', 'gtm'): 8, ('intercom', '’'): 8, (\"'re\", 'looking'): 8, ('understanding', 'business'): 8, ('software', 'development'): 8, ('volkswagen', 'group'): 8, ('rag', 'rl'): 8, ('application', 'specific'): 8, ('versa', 'networks'): 8, ('job', 'descriptionwe'): 7, ('descriptionwe', 'seek'): 7, ('seek', 'motivated'): 7, ('motivated', 'ml/ai'): 7, ('ml/ai', 'engineer'): 7, ('engineer', 'scientist'): 7, ('scientist', 'join'): 7, ('join', 'interdisciplinary'): 7, ('netflix', 'one'): 7, ('one', 'world'): 7, ('world', 'leading'): 7, ('ai/ml', 'researcherwe'): 7, ('researcherwe', 'currently'): 7, ('currently', 'working'): 7, ('working', 'biotech'): 7, ('biotech', 'unicorn'): 7, ('unicorn', '!'): 7, ('!', 'working'): 7, ('working', 'evolutionary'): 7, ('connect', 'neighborhoods'): 7, ('neighborhoods', 'matter'): 7, ('client', 'pioneer'): 7, ('pioneer', 'building'): 7, ('building', 'human'): 7, ('human', 'layer'): 7, ('layer', 'ai'): 7, ('ai', 'mission'): 7, ('early', 'member'): 7, ('member', 'slope'): 7, ('’', 'team'): 7, ('help', 'drive'): 7, ('ussynergistic', 'full-service'): 7, ('join', 'us'): 6, ('seeking', 'skilled'): 6, ('skilled', 'machine'): 6, ('minimally', 'invasive'): 6, ('strive', 'foster'): 6, ('foster', 'inclusive'): 6, ('3', '5'): 6, ('5', 'years'): 6, ('years', 'ml/research'): 6, ('ml/research', 'engineeringsalary'): 6, ('engineeringsalary', '$'): 6, ('$', '100k'): 6, ('100k', '$'): 6, ('pinterestmillions', 'people'): 6, ('people', 'across'): 6, ('qualifications', 'master'): 6, ('master', 'degree'): 6, ('degree', 'statistics'): 6, ('related', 'quantitative'): 6, ('e.g.', 'sql'): 6, ('world', 'google'): 6, ('google', 'engineers'): 6, ('help', 'merchants'): 6, ('enable', 'consumers'): 6, ('full', 'stack'): 6, ('work', 'founders'): 6, ('founding', 'team'): 6, ('dynamism', '’'): 6, ('software', 'engineers'): 6, ('clinical', 'trials'): 6, ('talent', 'solutions'): 6, ('real', 'estate'): 6, ('perceptronics', 'solutions'): 6, ('artificial', 'intelligence'): 6, ('love', 'challenge'): 6, ('&', 'plus'): 6, ('plus', ';'): 6, ('video', 'models'): 6, ('data', 'collection'): 6, ('model', 'inference'): 6, ('parallel', 'inference'): 6, ('diffusion', 'models'): 6, ('ai', 'products'): 6, (\"'re\", 'building'): 6, (\"'d\", 'love'): 6, ('ai', 'solutions'): 6, ('science', 'models'): 6, ('advanced', 'data'): 6, ('improve', 'model'): 6, ('model', 'performance'): 6, ('models', 'production'): 6, ('large', 'language'): 6, ('skills', 'ability'): 6, ('days', 'week'): 6, ('llms', 'nlp'): 6, ('nlp', 'models'): 6, ('models', 'retrieval'): 6, ('retrieval', 'algorithms'): 6, ('data', 'training'): 6, ('innovative', 'search'): 6, ('please', 'apply'): 6, ('retrieval-augmented', 'generation'): 6, ('statistics', 'operations'): 6, ('operations', 'research'): 6, ('drug', 'hunters'): 6, ('learning', 'researchers'): 6, ('purpose', 'serve'): 5, ('serve', 'connect'): 5, ('connect', 'start'): 5, ('start', 'community'): 5, ('overviewparadyme', 'management'): 5, ('promptbio', 'established'): 5, ('established', '2023'): 5, ('2023', 'pleasanton'): 5, ('pleasanton', 'california'): 5, ('synergisticit', 'committed'): 5, ('recommender', 'systems'): 5, ('•', 'experience'): 5, ('responsibilitiesas', 'data'): 5, ('hi', '!'): 5, ('!', 'name'): 5, ('name', 'konstantina'): 5, ('konstantina', '’'): 5, ('’', 'founder'): 5, ('founder', 'kaedim'): 5, ('learning', 'research'): 5, ('research', 'engineerlocation'): 5, ('engineerlocation', 'onsite'): 5, ('holy', 'grail'): 5, ('grail', 'developed'): 5, ('code', 'rating'): 5, ('mission', 'make'): 4, ('toolmaking', 'ubiquitous'): 4, ('notion', '’'): 4, ('product', 'data'): 4, ('science', 'team'): 4, ('team', 'work'): 4, ('engineering', 'best'): 4, ('practices', 'version'): 4, ('version', 'control'): 4, ('control', 'testing'): 4, ('testing', 'code'): 4, ('minimum', 'qualifications'): 4, ('reviewed', 'rolling'): 4, ('p-978', 'databricks'): 4, ('databricks', 'passionate'): 4, ('passionate', 'helping'): 4, ('jobcompany', 'intro'): 4, ('intro', 'turbineone'): 4, ('turbineone', 'fast-moving'): 4, ('fast-moving', 'high-performance'): 4, ('ai', 'futures'): 4, ('learning', 'engineers'): 4, ('weave', 'making'): 4, ('making', 'isaac'): 4, ('isaac', 'general-purpose'): 4, ('general-purpose', 'personal'): 4, ('personal', 'robot'): 4, ('robot', '’'): 4, ('’', 'built'): 4, ('built', 'home'): 4, ('moveworks', 'universal'): 4, ('universal', 'ai'): 4, ('ai', 'copilot'): 4, ('copilot', 'search'): 4, ('point', 'sale'): 4, ('improve', 'health'): 4, ('health', 'equity'): 4, ('library', 'inc.'): 4, ('believe', 'power'): 4, ('llms', 'abstracting'): 4, ('early-stage', 'start-up'): 4, ('learning', 'robotics'): 4, ('great', 'financial'): 4, ('financial', 'crisis'): 4, ('two', 'dots'): 4, ('r', 'python'): 4, ('basic', 'understanding'): 4, ('understanding', 'sql'): 4, ('sql', 'javascript'): 4, ('javascript', 'xml'): 4, ('xml', 'json'): 4, ('json', 'html'): 4, ('masters', 'degree'): 4, ('flair', 'labs'): 4, ('neural', 'networks'): 4, ('pattern', 'recognition'): 4, ('generative', 'predictive'): 4, ('job', 'description'): 4, ('description', 'synergistic'): 4, ('synergistic', 'organization'): 4, ('organization', 'focusing'): 4, ('focusing', 'providing'): 4, ('providing', 'technically'): 4, ('technically', 'skilled'): 4, ('skilled', 'competent'): 4, ('business', 'risk'): 4, ('bric', 'team'): 4, ('real-world', 'data'): 4, ('research', 'care'): 4, ('longitudinal', 'datasets'): 4, ('structured', 'unstructured'): 4, ('unstructured', 'clinical'): 4, ('service', 'edge'): 4, ('innovation', 'collaboration'): 4, ('exploratory', 'data'): 4, ('computer', 'vision'): 3, ('vision', 'machine'): 3, ('join', 'usbrex'): 3, ('usbrex', 'ai-powered'): 3, ('ai-powered', 'spend'): 3, ('spend', 'platform'): 3, ('platform', 'help'): 3, ('help', 'companies'): 3, ('companies', 'spend'): 3, ('technical', 'work'): 3, ('grocery', 'retail'): 3, ('retail', 'delivery'): 3, ('client', 'applelocation'): 3, ('applelocation', '10201'): 3, ('10201', 'n'): 3, ('n', 'de'): 3, ('de', 'anza'): 3, ('anza', 'blvd'): 3, ('due', 'sensitive'): 3, ('sensitive', 'nature'): 3, ('nature', 'work'): 3, ('work', 'u.s.'): 3, ('u.s.', 'citizenship'): 3, ('passionate', 'building'): 3, ('building', 'generative'): 3, ('products', 'state-of-the'): 3, ('state-of-the', 'art'): 3, ('art', 'technologies'): 3, ('technologies', '?'): 3, ('food', 'drug'): 3, ('ai', '&'): 3, ('&', 'opportunity'): 3, ('ideal', 'candidate'): 3, ('candidate', 'favorite'): 3, ('favorite', 'words'): 3, ('words', 'learning'): 3, ('learning', 'data'): 3, ('data', 'scale'): 3, ('scale', 'agility'): 3, ('molecule', 'drug'): 3, ('francisco', 'based'): 3, ('based', 'ai'): 3, ('ai', 'company'): 3, ('company', 'looking'): 3, ('looking', 'exceptional'): 3, ('stack', 'aivision'): 3, ('aivision', 'democratize'): 3, ('democratize', 'access'): 3, ('statistical', 'analysis'): 3, ('https', '//www.youtube.com/watch'): 3, ('//www.youtube.com/watch', '?'): 3, ('data', 'mining'): 3, ('statistical', 'models'): 3, ('deployed', 'models'): 3, ('lives', 'millions'): 2, ('millions', 'customers'): 2, ('scientists', 'engineers'): 2, ('overviewintuit', 'hiring'): 2, ('real-world', 'problems'): 2, ('positive', 'impact'): 2, ('global', 'food'): 2, ('hands-on', 'technical'): 2, ('work', 'closely'): 2, ('financial', 'services'): 2, ('square', 'point'): 2, ('square', '’'): 2, ('diverse', 'set'): 2, ('excited', 'future'): 2, ('future', 'robotics'): 2, ('robotics', '?'): 2, ('?', 'want'): 2, ('want', 'join'): 2, ('prevent', 'great'): 2, ('crisis', '2.0'): 2, ('2.0', 'two'): 2, ('two', 'dotsthe'): 2, ('dotsthe', 'decade'): 2, ('skild', 'ai'): 2, ('models', 'robotic'): 2, ('robotic', 'manipulation'): 2, ('remote', 'position.data'): 2, ('company', 'descriptionflair'): 2, ('drug', 'retailers'): 2, ('retailers', 'united'): 2, ('united', 'states'): 2, ('well-known', 'banners'): 2, ('tasks', 'like'): 2, ('understanding', 'core'): 2, ('core', 'data'): 2, ('science', 'principles'): 2, ('emails', 'job'): 2, ('job', 'placement'): 2, ('please', 'email'): 2, ('email', 'ask'): 2, ('ask', 'take'): 2, ('data', 'lake'): 2, ('near', 'real'): 2, ('real', 'time'): 2, ('time', 'batch'): 2, ('new', 'technologies'): 2, ('cutting-edge', 'ai'): 2, ('classification', 'object'): 2, ('object', 'detection'): 2, ('detection', 'segmentation'): 2, ('mlops', 'tools'): 2, ('applications', 'manufacturing'): 2, ('airflow', 'dbt'): 2, ('technical', 'leader'): 2, ('company', 'overviewat'): 1, ('overviewat', 'skild'): 1, ('job', 'responsibilityanalyze'): 1, ('responsibilityanalyze', 'code'): 1, ('rating', 'data'): 1, ('data', 'identify'): 1, ('identify', 'opportunities'): 1, ('opportunities', 'ai-based'): 1}\n"
     ]
    }
   ],
   "source": [
    "print(len(sorted_dict_bigram))\n",
    "print(sorted_dict_bigram)"
   ]
  },
  {
   "cell_type": "code",
   "execution_count": null,
   "id": "cb81e55b",
   "metadata": {},
   "outputs": [],
   "source": []
  }
 ],
 "metadata": {
  "kernelspec": {
   "display_name": "Python 3 (ipykernel)",
   "language": "python",
   "name": "python3"
  },
  "language_info": {
   "codemirror_mode": {
    "name": "ipython",
    "version": 3
   },
   "file_extension": ".py",
   "mimetype": "text/x-python",
   "name": "python",
   "nbconvert_exporter": "python",
   "pygments_lexer": "ipython3",
   "version": "3.10.11"
  }
 },
 "nbformat": 4,
 "nbformat_minor": 5
}
